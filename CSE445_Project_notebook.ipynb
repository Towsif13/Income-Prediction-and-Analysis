{
  "nbformat": 4,
  "nbformat_minor": 0,
  "metadata": {
    "colab": {
      "name": "CSE445_Project_final_notebook.ipynb",
      "provenance": [],
      "collapsed_sections": [
        "tLwNO6aUZCQL",
        "-RQIPYYyad_c"
      ]
    },
    "kernelspec": {
      "name": "python3",
      "display_name": "Python 3"
    }
  },
  "cells": [
    {
      "cell_type": "markdown",
      "metadata": {
        "id": "e7XKjYWYY8x0",
        "colab_type": "text"
      },
      "source": [
        "# Imports"
      ]
    },
    {
      "cell_type": "code",
      "metadata": {
        "id": "HPMcH0jcYygC",
        "colab_type": "code",
        "colab": {}
      },
      "source": [
        "import numpy as np\n",
        "import pandas as pd\n",
        "import matplotlib.pyplot as plt\n",
        "import seaborn as sns\n",
        "\n",
        "from sklearn import preprocessing\n",
        "from sklearn.metrics import classification_report,confusion_matrix\n",
        "from sklearn.model_selection import train_test_split, GridSearchCV, StratifiedKFold\n",
        "from sklearn.linear_model import LogisticRegression\n",
        "from sklearn.svm import SVC\n",
        "from sklearn.tree import DecisionTreeClassifier\n",
        "from sklearn.ensemble import RandomForestClassifier\n",
        "\n",
        "from sklearn.preprocessing import StandardScaler\n",
        "import tensorflow as tf\n",
        "from tensorflow.keras.models import Sequential\n",
        "from tensorflow.keras.layers import Dense,Dropout\n",
        "\n",
        "from sklearn.preprocessing import MinMaxScaler\n",
        "from sklearn.metrics import auc,accuracy_score,roc_auc_score,roc_curve\n",
        "\n",
        "from sklearn.ensemble import AdaBoostClassifier\n",
        "from sklearn.ensemble import GradientBoostingClassifier\n",
        "from sklearn import tree"
      ],
      "execution_count": 109,
      "outputs": []
    },
    {
      "cell_type": "markdown",
      "metadata": {
        "id": "tLwNO6aUZCQL",
        "colab_type": "text"
      },
      "source": [
        "# Loading data  from Google Drive"
      ]
    },
    {
      "cell_type": "code",
      "metadata": {
        "id": "aAOPf5JCZAv3",
        "colab_type": "code",
        "colab": {
          "base_uri": "https://localhost:8080/",
          "height": 0
        },
        "outputId": "386e6bcd-bfb4-498c-fbd1-888d732fa08e"
      },
      "source": [
        "from google.colab import drive\n",
        "drive.mount('/content/drive')"
      ],
      "execution_count": 110,
      "outputs": [
        {
          "output_type": "stream",
          "text": [
            "Drive already mounted at /content/drive; to attempt to forcibly remount, call drive.mount(\"/content/drive\", force_remount=True).\n"
          ],
          "name": "stdout"
        }
      ]
    },
    {
      "cell_type": "code",
      "metadata": {
        "id": "iADW0LWeZLdW",
        "colab_type": "code",
        "colab": {}
      },
      "source": [
        "data = pd.read_csv('/content/drive/My Drive/Dataset/adult.csv')"
      ],
      "execution_count": 111,
      "outputs": []
    },
    {
      "cell_type": "code",
      "metadata": {
        "id": "SlWPWJM1ZYzD",
        "colab_type": "code",
        "colab": {
          "base_uri": "https://localhost:8080/",
          "height": 0
        },
        "outputId": "bf7a4f28-3018-4c74-d097-ad526e42c02a"
      },
      "source": [
        "data.head()"
      ],
      "execution_count": 112,
      "outputs": [
        {
          "output_type": "execute_result",
          "data": {
            "text/html": [
              "<div>\n",
              "<style scoped>\n",
              "    .dataframe tbody tr th:only-of-type {\n",
              "        vertical-align: middle;\n",
              "    }\n",
              "\n",
              "    .dataframe tbody tr th {\n",
              "        vertical-align: top;\n",
              "    }\n",
              "\n",
              "    .dataframe thead th {\n",
              "        text-align: right;\n",
              "    }\n",
              "</style>\n",
              "<table border=\"1\" class=\"dataframe\">\n",
              "  <thead>\n",
              "    <tr style=\"text-align: right;\">\n",
              "      <th></th>\n",
              "      <th>age</th>\n",
              "      <th>workclass</th>\n",
              "      <th>fnlwgt</th>\n",
              "      <th>education</th>\n",
              "      <th>education.num</th>\n",
              "      <th>marital.status</th>\n",
              "      <th>occupation</th>\n",
              "      <th>relationship</th>\n",
              "      <th>race</th>\n",
              "      <th>sex</th>\n",
              "      <th>capital.gain</th>\n",
              "      <th>capital.loss</th>\n",
              "      <th>hours.per.week</th>\n",
              "      <th>native.country</th>\n",
              "      <th>income</th>\n",
              "    </tr>\n",
              "  </thead>\n",
              "  <tbody>\n",
              "    <tr>\n",
              "      <th>0</th>\n",
              "      <td>90</td>\n",
              "      <td>?</td>\n",
              "      <td>77053</td>\n",
              "      <td>HS-grad</td>\n",
              "      <td>9</td>\n",
              "      <td>Widowed</td>\n",
              "      <td>?</td>\n",
              "      <td>Not-in-family</td>\n",
              "      <td>White</td>\n",
              "      <td>Female</td>\n",
              "      <td>0</td>\n",
              "      <td>4356</td>\n",
              "      <td>40</td>\n",
              "      <td>United-States</td>\n",
              "      <td>&lt;=50K</td>\n",
              "    </tr>\n",
              "    <tr>\n",
              "      <th>1</th>\n",
              "      <td>82</td>\n",
              "      <td>Private</td>\n",
              "      <td>132870</td>\n",
              "      <td>HS-grad</td>\n",
              "      <td>9</td>\n",
              "      <td>Widowed</td>\n",
              "      <td>Exec-managerial</td>\n",
              "      <td>Not-in-family</td>\n",
              "      <td>White</td>\n",
              "      <td>Female</td>\n",
              "      <td>0</td>\n",
              "      <td>4356</td>\n",
              "      <td>18</td>\n",
              "      <td>United-States</td>\n",
              "      <td>&lt;=50K</td>\n",
              "    </tr>\n",
              "    <tr>\n",
              "      <th>2</th>\n",
              "      <td>66</td>\n",
              "      <td>?</td>\n",
              "      <td>186061</td>\n",
              "      <td>Some-college</td>\n",
              "      <td>10</td>\n",
              "      <td>Widowed</td>\n",
              "      <td>?</td>\n",
              "      <td>Unmarried</td>\n",
              "      <td>Black</td>\n",
              "      <td>Female</td>\n",
              "      <td>0</td>\n",
              "      <td>4356</td>\n",
              "      <td>40</td>\n",
              "      <td>United-States</td>\n",
              "      <td>&lt;=50K</td>\n",
              "    </tr>\n",
              "    <tr>\n",
              "      <th>3</th>\n",
              "      <td>54</td>\n",
              "      <td>Private</td>\n",
              "      <td>140359</td>\n",
              "      <td>7th-8th</td>\n",
              "      <td>4</td>\n",
              "      <td>Divorced</td>\n",
              "      <td>Machine-op-inspct</td>\n",
              "      <td>Unmarried</td>\n",
              "      <td>White</td>\n",
              "      <td>Female</td>\n",
              "      <td>0</td>\n",
              "      <td>3900</td>\n",
              "      <td>40</td>\n",
              "      <td>United-States</td>\n",
              "      <td>&lt;=50K</td>\n",
              "    </tr>\n",
              "    <tr>\n",
              "      <th>4</th>\n",
              "      <td>41</td>\n",
              "      <td>Private</td>\n",
              "      <td>264663</td>\n",
              "      <td>Some-college</td>\n",
              "      <td>10</td>\n",
              "      <td>Separated</td>\n",
              "      <td>Prof-specialty</td>\n",
              "      <td>Own-child</td>\n",
              "      <td>White</td>\n",
              "      <td>Female</td>\n",
              "      <td>0</td>\n",
              "      <td>3900</td>\n",
              "      <td>40</td>\n",
              "      <td>United-States</td>\n",
              "      <td>&lt;=50K</td>\n",
              "    </tr>\n",
              "  </tbody>\n",
              "</table>\n",
              "</div>"
            ],
            "text/plain": [
              "   age workclass  fnlwgt  ... hours.per.week  native.country income\n",
              "0   90         ?   77053  ...             40   United-States  <=50K\n",
              "1   82   Private  132870  ...             18   United-States  <=50K\n",
              "2   66         ?  186061  ...             40   United-States  <=50K\n",
              "3   54   Private  140359  ...             40   United-States  <=50K\n",
              "4   41   Private  264663  ...             40   United-States  <=50K\n",
              "\n",
              "[5 rows x 15 columns]"
            ]
          },
          "metadata": {
            "tags": []
          },
          "execution_count": 112
        }
      ]
    },
    {
      "cell_type": "code",
      "metadata": {
        "id": "50fQy6nWZZ7m",
        "colab_type": "code",
        "colab": {
          "base_uri": "https://localhost:8080/",
          "height": 0
        },
        "outputId": "7e615d10-df62-45db-f88e-de0946e0f737"
      },
      "source": [
        "#Setting '?' fields to null\n",
        "data[data == '?'] = np.nan"
      ],
      "execution_count": 113,
      "outputs": [
        {
          "output_type": "stream",
          "text": [
            "/usr/local/lib/python3.6/dist-packages/pandas/core/ops/array_ops.py:253: FutureWarning: elementwise comparison failed; returning scalar instead, but in the future will perform elementwise comparison\n",
            "  res_values = method(rvalues)\n"
          ],
          "name": "stderr"
        }
      ]
    },
    {
      "cell_type": "markdown",
      "metadata": {
        "id": "rpwWF6ZYZnPy",
        "colab_type": "text"
      },
      "source": [
        "# EDA and data cleaning"
      ]
    },
    {
      "cell_type": "code",
      "metadata": {
        "id": "ATp3dYffZleZ",
        "colab_type": "code",
        "colab": {
          "base_uri": "https://localhost:8080/",
          "height": 0
        },
        "outputId": "ee8552f7-cb75-430a-cf9b-f99f1710a908"
      },
      "source": [
        "data.info()"
      ],
      "execution_count": 114,
      "outputs": [
        {
          "output_type": "stream",
          "text": [
            "<class 'pandas.core.frame.DataFrame'>\n",
            "RangeIndex: 32561 entries, 0 to 32560\n",
            "Data columns (total 15 columns):\n",
            " #   Column          Non-Null Count  Dtype \n",
            "---  ------          --------------  ----- \n",
            " 0   age             32561 non-null  int64 \n",
            " 1   workclass       30725 non-null  object\n",
            " 2   fnlwgt          32561 non-null  int64 \n",
            " 3   education       32561 non-null  object\n",
            " 4   education.num   32561 non-null  int64 \n",
            " 5   marital.status  32561 non-null  object\n",
            " 6   occupation      30718 non-null  object\n",
            " 7   relationship    32561 non-null  object\n",
            " 8   race            32561 non-null  object\n",
            " 9   sex             32561 non-null  object\n",
            " 10  capital.gain    32561 non-null  int64 \n",
            " 11  capital.loss    32561 non-null  int64 \n",
            " 12  hours.per.week  32561 non-null  int64 \n",
            " 13  native.country  31978 non-null  object\n",
            " 14  income          32561 non-null  object\n",
            "dtypes: int64(6), object(9)\n",
            "memory usage: 3.7+ MB\n"
          ],
          "name": "stdout"
        }
      ]
    },
    {
      "cell_type": "code",
      "metadata": {
        "id": "N_ZjmHB9ZqIf",
        "colab_type": "code",
        "colab": {
          "base_uri": "https://localhost:8080/",
          "height": 0
        },
        "outputId": "fe37cf32-28cd-4bce-9131-6794cd52f1a0"
      },
      "source": [
        "data.describe()"
      ],
      "execution_count": 115,
      "outputs": [
        {
          "output_type": "execute_result",
          "data": {
            "text/html": [
              "<div>\n",
              "<style scoped>\n",
              "    .dataframe tbody tr th:only-of-type {\n",
              "        vertical-align: middle;\n",
              "    }\n",
              "\n",
              "    .dataframe tbody tr th {\n",
              "        vertical-align: top;\n",
              "    }\n",
              "\n",
              "    .dataframe thead th {\n",
              "        text-align: right;\n",
              "    }\n",
              "</style>\n",
              "<table border=\"1\" class=\"dataframe\">\n",
              "  <thead>\n",
              "    <tr style=\"text-align: right;\">\n",
              "      <th></th>\n",
              "      <th>age</th>\n",
              "      <th>fnlwgt</th>\n",
              "      <th>education.num</th>\n",
              "      <th>capital.gain</th>\n",
              "      <th>capital.loss</th>\n",
              "      <th>hours.per.week</th>\n",
              "    </tr>\n",
              "  </thead>\n",
              "  <tbody>\n",
              "    <tr>\n",
              "      <th>count</th>\n",
              "      <td>32561.000000</td>\n",
              "      <td>3.256100e+04</td>\n",
              "      <td>32561.000000</td>\n",
              "      <td>32561.000000</td>\n",
              "      <td>32561.000000</td>\n",
              "      <td>32561.000000</td>\n",
              "    </tr>\n",
              "    <tr>\n",
              "      <th>mean</th>\n",
              "      <td>38.581647</td>\n",
              "      <td>1.897784e+05</td>\n",
              "      <td>10.080679</td>\n",
              "      <td>1077.648844</td>\n",
              "      <td>87.303830</td>\n",
              "      <td>40.437456</td>\n",
              "    </tr>\n",
              "    <tr>\n",
              "      <th>std</th>\n",
              "      <td>13.640433</td>\n",
              "      <td>1.055500e+05</td>\n",
              "      <td>2.572720</td>\n",
              "      <td>7385.292085</td>\n",
              "      <td>402.960219</td>\n",
              "      <td>12.347429</td>\n",
              "    </tr>\n",
              "    <tr>\n",
              "      <th>min</th>\n",
              "      <td>17.000000</td>\n",
              "      <td>1.228500e+04</td>\n",
              "      <td>1.000000</td>\n",
              "      <td>0.000000</td>\n",
              "      <td>0.000000</td>\n",
              "      <td>1.000000</td>\n",
              "    </tr>\n",
              "    <tr>\n",
              "      <th>25%</th>\n",
              "      <td>28.000000</td>\n",
              "      <td>1.178270e+05</td>\n",
              "      <td>9.000000</td>\n",
              "      <td>0.000000</td>\n",
              "      <td>0.000000</td>\n",
              "      <td>40.000000</td>\n",
              "    </tr>\n",
              "    <tr>\n",
              "      <th>50%</th>\n",
              "      <td>37.000000</td>\n",
              "      <td>1.783560e+05</td>\n",
              "      <td>10.000000</td>\n",
              "      <td>0.000000</td>\n",
              "      <td>0.000000</td>\n",
              "      <td>40.000000</td>\n",
              "    </tr>\n",
              "    <tr>\n",
              "      <th>75%</th>\n",
              "      <td>48.000000</td>\n",
              "      <td>2.370510e+05</td>\n",
              "      <td>12.000000</td>\n",
              "      <td>0.000000</td>\n",
              "      <td>0.000000</td>\n",
              "      <td>45.000000</td>\n",
              "    </tr>\n",
              "    <tr>\n",
              "      <th>max</th>\n",
              "      <td>90.000000</td>\n",
              "      <td>1.484705e+06</td>\n",
              "      <td>16.000000</td>\n",
              "      <td>99999.000000</td>\n",
              "      <td>4356.000000</td>\n",
              "      <td>99.000000</td>\n",
              "    </tr>\n",
              "  </tbody>\n",
              "</table>\n",
              "</div>"
            ],
            "text/plain": [
              "                age        fnlwgt  ...  capital.loss  hours.per.week\n",
              "count  32561.000000  3.256100e+04  ...  32561.000000    32561.000000\n",
              "mean      38.581647  1.897784e+05  ...     87.303830       40.437456\n",
              "std       13.640433  1.055500e+05  ...    402.960219       12.347429\n",
              "min       17.000000  1.228500e+04  ...      0.000000        1.000000\n",
              "25%       28.000000  1.178270e+05  ...      0.000000       40.000000\n",
              "50%       37.000000  1.783560e+05  ...      0.000000       40.000000\n",
              "75%       48.000000  2.370510e+05  ...      0.000000       45.000000\n",
              "max       90.000000  1.484705e+06  ...   4356.000000       99.000000\n",
              "\n",
              "[8 rows x 6 columns]"
            ]
          },
          "metadata": {
            "tags": []
          },
          "execution_count": 115
        }
      ]
    },
    {
      "cell_type": "code",
      "metadata": {
        "id": "LvgE_Yx5ZrNq",
        "colab_type": "code",
        "colab": {
          "base_uri": "https://localhost:8080/",
          "height": 0
        },
        "outputId": "d4970e7b-a63e-40f5-d9bd-f3e252671119"
      },
      "source": [
        "data.isnull().sum()"
      ],
      "execution_count": 116,
      "outputs": [
        {
          "output_type": "execute_result",
          "data": {
            "text/plain": [
              "age                  0\n",
              "workclass         1836\n",
              "fnlwgt               0\n",
              "education            0\n",
              "education.num        0\n",
              "marital.status       0\n",
              "occupation        1843\n",
              "relationship         0\n",
              "race                 0\n",
              "sex                  0\n",
              "capital.gain         0\n",
              "capital.loss         0\n",
              "hours.per.week       0\n",
              "native.country     583\n",
              "income               0\n",
              "dtype: int64"
            ]
          },
          "metadata": {
            "tags": []
          },
          "execution_count": 116
        }
      ]
    },
    {
      "cell_type": "code",
      "metadata": {
        "id": "HDl9rVnCZsaI",
        "colab_type": "code",
        "colab": {
          "base_uri": "https://localhost:8080/",
          "height": 0
        },
        "outputId": "67f5f7b4-d854-4b3d-ada0-e63732a294a2"
      },
      "source": [
        "plt.figure(figsize=(8,6))\n",
        "sns.countplot('income',data=data,hue='sex')"
      ],
      "execution_count": 117,
      "outputs": [
        {
          "output_type": "execute_result",
          "data": {
            "text/plain": [
              "<matplotlib.axes._subplots.AxesSubplot at 0x7f79ad84c550>"
            ]
          },
          "metadata": {
            "tags": []
          },
          "execution_count": 117
        },
        {
          "output_type": "display_data",
          "data": {
            "image/png": "[encoded data removed]",
            "text/plain": [
              "<Figure size 576x432 with 1 Axes>"
            ]
          },
          "metadata": {
            "tags": [],
            "needs_background": "light"
          }
        }
      ]
    },
    {
      "cell_type": "code",
      "metadata": {
        "id": "rVmKe91wZtnB",
        "colab_type": "code",
        "colab": {
          "base_uri": "https://localhost:8080/",
          "height": 0
        },
        "outputId": "9e2c5373-8091-4d18-f778-03df989d1771"
      },
      "source": [
        "plt.figure(figsize=(12,5))\n",
        "sns.countplot('workclass',data=data)"
      ],
      "execution_count": 118,
      "outputs": [
        {
          "output_type": "execute_result",
          "data": {
            "text/plain": [
              "<matplotlib.axes._subplots.AxesSubplot at 0x7f79ad84c9b0>"
            ]
          },
          "metadata": {
            "tags": []
          },
          "execution_count": 118
        },
        {
          "output_type": "display_data",
          "data": {
            "image/png": "[encoded data removed]",
            "text/plain": [
              "<Figure size 864x360 with 1 Axes>"
            ]
          },
          "metadata": {
            "tags": [],
            "needs_background": "light"
          }
        }
      ]
    },
    {
      "cell_type": "code",
      "metadata": {
        "id": "XyNNn-OnZu7v",
        "colab_type": "code",
        "colab": {
          "base_uri": "https://localhost:8080/",
          "height": 0
        },
        "outputId": "11146003-40e1-45df-e55b-747c0cf08fee"
      },
      "source": [
        "plt.figure(figsize=(12,5))\n",
        "sns.countplot('workclass',data=data[data['workclass'] != 'Private'])"
      ],
      "execution_count": 119,
      "outputs": [
        {
          "output_type": "execute_result",
          "data": {
            "text/plain": [
              "<matplotlib.axes._subplots.AxesSubplot at 0x7f79abb03518>"
            ]
          },
          "metadata": {
            "tags": []
          },
          "execution_count": 119
        },
        {
          "output_type": "display_data",
          "data": {
            "image/png": "[encoded data removed]",
            "text/plain": [
              "<Figure size 864x360 with 1 Axes>"
            ]
          },
          "metadata": {
            "tags": [],
            "needs_background": "light"
          }
        }
      ]
    },
    {
      "cell_type": "code",
      "metadata": {
        "id": "YjVwixGzZwPG",
        "colab_type": "code",
        "colab": {
          "base_uri": "https://localhost:8080/",
          "height": 0
        },
        "outputId": "3dd0f846-59f6-476c-ef6d-2463846255e9"
      },
      "source": [
        "plt.figure(figsize=(23,5))\n",
        "sns.countplot('occupation',data=data)"
      ],
      "execution_count": 120,
      "outputs": [
        {
          "output_type": "execute_result",
          "data": {
            "text/plain": [
              "<matplotlib.axes._subplots.AxesSubplot at 0x7f79ad852ef0>"
            ]
          },
          "metadata": {
            "tags": []
          },
          "execution_count": 120
        },
        {
          "output_type": "display_data",
          "data": {
            "image/png": "[encoded data removed]",
            "text/plain": [
              "<Figure size 1656x360 with 1 Axes>"
            ]
          },
          "metadata": {
            "tags": [],
            "needs_background": "light"
          }
        }
      ]
    },
    {
      "cell_type": "code",
      "metadata": {
        "id": "bctkql_QZxZl",
        "colab_type": "code",
        "colab": {
          "base_uri": "https://localhost:8080/",
          "height": 0
        },
        "outputId": "c46ef4da-182d-4785-909c-c28e43b5f307"
      },
      "source": [
        "data['native.country'].nunique()"
      ],
      "execution_count": 121,
      "outputs": [
        {
          "output_type": "execute_result",
          "data": {
            "text/plain": [
              "41"
            ]
          },
          "metadata": {
            "tags": []
          },
          "execution_count": 121
        }
      ]
    },
    {
      "cell_type": "code",
      "metadata": {
        "id": "VgI63WFNZynr",
        "colab_type": "code",
        "colab": {
          "base_uri": "https://localhost:8080/",
          "height": 0
        },
        "outputId": "cc810f4f-d604-47e3-be78-d0e24f177932"
      },
      "source": [
        "data['native.country'].value_counts()"
      ],
      "execution_count": 122,
      "outputs": [
        {
          "output_type": "execute_result",
          "data": {
            "text/plain": [
              "United-States                 29170\n",
              "Mexico                          643\n",
              "Philippines                     198\n",
              "Germany                         137\n",
              "Canada                          121\n",
              "Puerto-Rico                     114\n",
              "El-Salvador                     106\n",
              "India                           100\n",
              "Cuba                             95\n",
              "England                          90\n",
              "Jamaica                          81\n",
              "South                            80\n",
              "China                            75\n",
              "Italy                            73\n",
              "Dominican-Republic               70\n",
              "Vietnam                          67\n",
              "Guatemala                        64\n",
              "Japan                            62\n",
              "Poland                           60\n",
              "Columbia                         59\n",
              "Taiwan                           51\n",
              "Haiti                            44\n",
              "Iran                             43\n",
              "Portugal                         37\n",
              "Nicaragua                        34\n",
              "Peru                             31\n",
              "Greece                           29\n",
              "France                           29\n",
              "Ecuador                          28\n",
              "Ireland                          24\n",
              "Hong                             20\n",
              "Cambodia                         19\n",
              "Trinadad&Tobago                  19\n",
              "Laos                             18\n",
              "Thailand                         18\n",
              "Yugoslavia                       16\n",
              "Outlying-US(Guam-USVI-etc)       14\n",
              "Honduras                         13\n",
              "Hungary                          13\n",
              "Scotland                         12\n",
              "Holand-Netherlands                1\n",
              "Name: native.country, dtype: int64"
            ]
          },
          "metadata": {
            "tags": []
          },
          "execution_count": 122
        }
      ]
    },
    {
      "cell_type": "code",
      "metadata": {
        "id": "yCd3-e6qZ0Y6",
        "colab_type": "code",
        "colab": {}
      },
      "source": [
        "data = data[data['native.country'] == 'United-States']"
      ],
      "execution_count": 123,
      "outputs": []
    },
    {
      "cell_type": "code",
      "metadata": {
        "id": "6GJMfq2JZ13X",
        "colab_type": "code",
        "colab": {
          "base_uri": "https://localhost:8080/",
          "height": 0
        },
        "outputId": "132f0f97-9184-4a51-de60-199d877bdf09"
      },
      "source": [
        "data.isnull().sum()"
      ],
      "execution_count": 124,
      "outputs": [
        {
          "output_type": "execute_result",
          "data": {
            "text/plain": [
              "age                  0\n",
              "workclass         1659\n",
              "fnlwgt               0\n",
              "education            0\n",
              "education.num        0\n",
              "marital.status       0\n",
              "occupation        1666\n",
              "relationship         0\n",
              "race                 0\n",
              "sex                  0\n",
              "capital.gain         0\n",
              "capital.loss         0\n",
              "hours.per.week       0\n",
              "native.country       0\n",
              "income               0\n",
              "dtype: int64"
            ]
          },
          "metadata": {
            "tags": []
          },
          "execution_count": 124
        }
      ]
    },
    {
      "cell_type": "code",
      "metadata": {
        "id": "PcZBJGAIZ2x7",
        "colab_type": "code",
        "colab": {
          "base_uri": "https://localhost:8080/",
          "height": 0
        },
        "outputId": "20cb7d91-dd86-42a2-8980-335e3494ce75"
      },
      "source": [
        "data.duplicated().sum()"
      ],
      "execution_count": 125,
      "outputs": [
        {
          "output_type": "execute_result",
          "data": {
            "text/plain": [
              "17"
            ]
          },
          "metadata": {
            "tags": []
          },
          "execution_count": 125
        }
      ]
    },
    {
      "cell_type": "code",
      "metadata": {
        "id": "yd9ywvRgZ6Jw",
        "colab_type": "code",
        "colab": {}
      },
      "source": [
        "data.drop_duplicates(inplace=True)"
      ],
      "execution_count": 126,
      "outputs": []
    },
    {
      "cell_type": "code",
      "metadata": {
        "id": "J5PhHJ52Z7iN",
        "colab_type": "code",
        "colab": {}
      },
      "source": [
        "for col in ['workclass', 'occupation']:\n",
        "    data[col].fillna(data[col].mode()[0], inplace=True)"
      ],
      "execution_count": 127,
      "outputs": []
    },
    {
      "cell_type": "code",
      "metadata": {
        "id": "eKqXAr0UZ-at",
        "colab_type": "code",
        "colab": {
          "base_uri": "https://localhost:8080/",
          "height": 0
        },
        "outputId": "336c90fd-f3c3-45db-a121-fd5547717933"
      },
      "source": [
        "data.isnull().sum()"
      ],
      "execution_count": 128,
      "outputs": [
        {
          "output_type": "execute_result",
          "data": {
            "text/plain": [
              "age               0\n",
              "workclass         0\n",
              "fnlwgt            0\n",
              "education         0\n",
              "education.num     0\n",
              "marital.status    0\n",
              "occupation        0\n",
              "relationship      0\n",
              "race              0\n",
              "sex               0\n",
              "capital.gain      0\n",
              "capital.loss      0\n",
              "hours.per.week    0\n",
              "native.country    0\n",
              "income            0\n",
              "dtype: int64"
            ]
          },
          "metadata": {
            "tags": []
          },
          "execution_count": 128
        }
      ]
    },
    {
      "cell_type": "code",
      "metadata": {
        "id": "gOXhEKBlZ_rj",
        "colab_type": "code",
        "colab": {
          "base_uri": "https://localhost:8080/",
          "height": 0
        },
        "outputId": "e0c6b278-4522-42fa-cb32-e8010417e89a"
      },
      "source": [
        "sns.scatterplot('education.num','education',data=data)"
      ],
      "execution_count": 129,
      "outputs": [
        {
          "output_type": "execute_result",
          "data": {
            "text/plain": [
              "<matplotlib.axes._subplots.AxesSubplot at 0x7f79aba01160>"
            ]
          },
          "metadata": {
            "tags": []
          },
          "execution_count": 129
        },
        {
          "output_type": "display_data",
          "data": {
            "image/png": "[encoded data removed]",
            "text/plain": [
              "<Figure size 432x288 with 1 Axes>"
            ]
          },
          "metadata": {
            "tags": [],
            "needs_background": "light"
          }
        }
      ]
    },
    {
      "cell_type": "code",
      "metadata": {
        "id": "FKmh6EGeaBHh",
        "colab_type": "code",
        "colab": {}
      },
      "source": [
        "data.drop('education',1,inplace=True)"
      ],
      "execution_count": 130,
      "outputs": []
    },
    {
      "cell_type": "code",
      "metadata": {
        "id": "6Ref8PQUaCOw",
        "colab_type": "code",
        "colab": {
          "base_uri": "https://localhost:8080/",
          "height": 0
        },
        "outputId": "3f38d369-c605-4687-cb1d-2b1e02e47284"
      },
      "source": [
        "data.columns"
      ],
      "execution_count": 131,
      "outputs": [
        {
          "output_type": "execute_result",
          "data": {
            "text/plain": [
              "Index(['age', 'workclass', 'fnlwgt', 'education.num', 'marital.status',\n",
              "       'occupation', 'relationship', 'race', 'sex', 'capital.gain',\n",
              "       'capital.loss', 'hours.per.week', 'native.country', 'income'],\n",
              "      dtype='object')"
            ]
          },
          "metadata": {
            "tags": []
          },
          "execution_count": 131
        }
      ]
    },
    {
      "cell_type": "code",
      "metadata": {
        "id": "60WhxsjAaDFj",
        "colab_type": "code",
        "colab": {
          "base_uri": "https://localhost:8080/",
          "height": 0
        },
        "outputId": "e6ce99ea-56b7-46f8-fa6b-dc919dae7abf"
      },
      "source": [
        "plt.figure(figsize=(10,6))\n",
        "sns.distplot(data['capital.gain'], kde=False);"
      ],
      "execution_count": 132,
      "outputs": [
        {
          "output_type": "display_data",
          "data": {
            "image/png": "[encoded data removed]",
            "text/plain": [
              "<Figure size 720x432 with 1 Axes>"
            ]
          },
          "metadata": {
            "tags": [],
            "needs_background": "light"
          }
        }
      ]
    },
    {
      "cell_type": "code",
      "metadata": {
        "id": "BX_wEEQLaEIc",
        "colab_type": "code",
        "colab": {
          "base_uri": "https://localhost:8080/",
          "height": 0
        },
        "outputId": "1d713bfb-ad79-458d-8bd5-d6e16b555cd2"
      },
      "source": [
        "plt.figure(figsize=(10,6))\n",
        "sns.distplot(data['capital.loss'], kde=False);"
      ],
      "execution_count": 133,
      "outputs": [
        {
          "output_type": "display_data",
          "data": {
            "image/png": "[encoded data removed]",
            "text/plain": [
              "<Figure size 720x432 with 1 Axes>"
            ]
          },
          "metadata": {
            "tags": [],
            "needs_background": "light"
          }
        }
      ]
    },
    {
      "cell_type": "code",
      "metadata": {
        "id": "-MdKXwGiaFOO",
        "colab_type": "code",
        "colab": {}
      },
      "source": [
        "data.drop(['capital.gain', 'capital.loss'], axis=1, inplace=True)"
      ],
      "execution_count": 134,
      "outputs": []
    },
    {
      "cell_type": "code",
      "metadata": {
        "id": "F-3p95KVaJmz",
        "colab_type": "code",
        "colab": {}
      },
      "source": [
        "data['income'] = data['income'].map({'<=50K':0, '>50K':1})"
      ],
      "execution_count": 135,
      "outputs": []
    },
    {
      "cell_type": "code",
      "metadata": {
        "id": "Y5gqeLjfaKpU",
        "colab_type": "code",
        "colab": {}
      },
      "source": [
        "column = ['workclass', 'marital.status', 'occupation', 'relationship', 'race', 'sex']\n",
        "for item in column:\n",
        "  labelEncoder = preprocessing.LabelEncoder()\n",
        "  data[item] = labelEncoder.fit_transform(data[item])"
      ],
      "execution_count": 136,
      "outputs": []
    },
    {
      "cell_type": "code",
      "metadata": {
        "id": "pFTYVnscaL9l",
        "colab_type": "code",
        "colab": {
          "base_uri": "https://localhost:8080/",
          "height": 0
        },
        "outputId": "a5b5a4be-f108-42ec-bc59-1fda1000d0b9"
      },
      "source": [
        "data.head()"
      ],
      "execution_count": 137,
      "outputs": [
        {
          "output_type": "execute_result",
          "data": {
            "text/html": [
              "<div>\n",
              "<style scoped>\n",
              "    .dataframe tbody tr th:only-of-type {\n",
              "        vertical-align: middle;\n",
              "    }\n",
              "\n",
              "    .dataframe tbody tr th {\n",
              "        vertical-align: top;\n",
              "    }\n",
              "\n",
              "    .dataframe thead th {\n",
              "        text-align: right;\n",
              "    }\n",
              "</style>\n",
              "<table border=\"1\" class=\"dataframe\">\n",
              "  <thead>\n",
              "    <tr style=\"text-align: right;\">\n",
              "      <th></th>\n",
              "      <th>age</th>\n",
              "      <th>workclass</th>\n",
              "      <th>fnlwgt</th>\n",
              "      <th>education.num</th>\n",
              "      <th>marital.status</th>\n",
              "      <th>occupation</th>\n",
              "      <th>relationship</th>\n",
              "      <th>race</th>\n",
              "      <th>sex</th>\n",
              "      <th>hours.per.week</th>\n",
              "      <th>native.country</th>\n",
              "      <th>income</th>\n",
              "    </tr>\n",
              "  </thead>\n",
              "  <tbody>\n",
              "    <tr>\n",
              "      <th>0</th>\n",
              "      <td>90</td>\n",
              "      <td>3</td>\n",
              "      <td>77053</td>\n",
              "      <td>9</td>\n",
              "      <td>6</td>\n",
              "      <td>3</td>\n",
              "      <td>1</td>\n",
              "      <td>4</td>\n",
              "      <td>0</td>\n",
              "      <td>40</td>\n",
              "      <td>United-States</td>\n",
              "      <td>0</td>\n",
              "    </tr>\n",
              "    <tr>\n",
              "      <th>1</th>\n",
              "      <td>82</td>\n",
              "      <td>3</td>\n",
              "      <td>132870</td>\n",
              "      <td>9</td>\n",
              "      <td>6</td>\n",
              "      <td>3</td>\n",
              "      <td>1</td>\n",
              "      <td>4</td>\n",
              "      <td>0</td>\n",
              "      <td>18</td>\n",
              "      <td>United-States</td>\n",
              "      <td>0</td>\n",
              "    </tr>\n",
              "    <tr>\n",
              "      <th>2</th>\n",
              "      <td>66</td>\n",
              "      <td>3</td>\n",
              "      <td>186061</td>\n",
              "      <td>10</td>\n",
              "      <td>6</td>\n",
              "      <td>3</td>\n",
              "      <td>4</td>\n",
              "      <td>2</td>\n",
              "      <td>0</td>\n",
              "      <td>40</td>\n",
              "      <td>United-States</td>\n",
              "      <td>0</td>\n",
              "    </tr>\n",
              "    <tr>\n",
              "      <th>3</th>\n",
              "      <td>54</td>\n",
              "      <td>3</td>\n",
              "      <td>140359</td>\n",
              "      <td>4</td>\n",
              "      <td>0</td>\n",
              "      <td>6</td>\n",
              "      <td>4</td>\n",
              "      <td>4</td>\n",
              "      <td>0</td>\n",
              "      <td>40</td>\n",
              "      <td>United-States</td>\n",
              "      <td>0</td>\n",
              "    </tr>\n",
              "    <tr>\n",
              "      <th>4</th>\n",
              "      <td>41</td>\n",
              "      <td>3</td>\n",
              "      <td>264663</td>\n",
              "      <td>10</td>\n",
              "      <td>5</td>\n",
              "      <td>9</td>\n",
              "      <td>3</td>\n",
              "      <td>4</td>\n",
              "      <td>0</td>\n",
              "      <td>40</td>\n",
              "      <td>United-States</td>\n",
              "      <td>0</td>\n",
              "    </tr>\n",
              "  </tbody>\n",
              "</table>\n",
              "</div>"
            ],
            "text/plain": [
              "   age  workclass  fnlwgt  ...  hours.per.week  native.country  income\n",
              "0   90          3   77053  ...              40   United-States       0\n",
              "1   82          3  132870  ...              18   United-States       0\n",
              "2   66          3  186061  ...              40   United-States       0\n",
              "3   54          3  140359  ...              40   United-States       0\n",
              "4   41          3  264663  ...              40   United-States       0\n",
              "\n",
              "[5 rows x 12 columns]"
            ]
          },
          "metadata": {
            "tags": []
          },
          "execution_count": 137
        }
      ]
    },
    {
      "cell_type": "code",
      "metadata": {
        "id": "_oyjfJ0SaNDx",
        "colab_type": "code",
        "colab": {}
      },
      "source": [
        "data.drop('native.country',1,inplace=True)"
      ],
      "execution_count": 138,
      "outputs": []
    },
    {
      "cell_type": "code",
      "metadata": {
        "id": "aWU_WSc4aOEh",
        "colab_type": "code",
        "colab": {
          "base_uri": "https://localhost:8080/",
          "height": 0
        },
        "outputId": "077521c2-222c-42f1-cd3a-a767af165c78"
      },
      "source": [
        "data.head()"
      ],
      "execution_count": 139,
      "outputs": [
        {
          "output_type": "execute_result",
          "data": {
            "text/html": [
              "<div>\n",
              "<style scoped>\n",
              "    .dataframe tbody tr th:only-of-type {\n",
              "        vertical-align: middle;\n",
              "    }\n",
              "\n",
              "    .dataframe tbody tr th {\n",
              "        vertical-align: top;\n",
              "    }\n",
              "\n",
              "    .dataframe thead th {\n",
              "        text-align: right;\n",
              "    }\n",
              "</style>\n",
              "<table border=\"1\" class=\"dataframe\">\n",
              "  <thead>\n",
              "    <tr style=\"text-align: right;\">\n",
              "      <th></th>\n",
              "      <th>age</th>\n",
              "      <th>workclass</th>\n",
              "      <th>fnlwgt</th>\n",
              "      <th>education.num</th>\n",
              "      <th>marital.status</th>\n",
              "      <th>occupation</th>\n",
              "      <th>relationship</th>\n",
              "      <th>race</th>\n",
              "      <th>sex</th>\n",
              "      <th>hours.per.week</th>\n",
              "      <th>income</th>\n",
              "    </tr>\n",
              "  </thead>\n",
              "  <tbody>\n",
              "    <tr>\n",
              "      <th>0</th>\n",
              "      <td>90</td>\n",
              "      <td>3</td>\n",
              "      <td>77053</td>\n",
              "      <td>9</td>\n",
              "      <td>6</td>\n",
              "      <td>3</td>\n",
              "      <td>1</td>\n",
              "      <td>4</td>\n",
              "      <td>0</td>\n",
              "      <td>40</td>\n",
              "      <td>0</td>\n",
              "    </tr>\n",
              "    <tr>\n",
              "      <th>1</th>\n",
              "      <td>82</td>\n",
              "      <td>3</td>\n",
              "      <td>132870</td>\n",
              "      <td>9</td>\n",
              "      <td>6</td>\n",
              "      <td>3</td>\n",
              "      <td>1</td>\n",
              "      <td>4</td>\n",
              "      <td>0</td>\n",
              "      <td>18</td>\n",
              "      <td>0</td>\n",
              "    </tr>\n",
              "    <tr>\n",
              "      <th>2</th>\n",
              "      <td>66</td>\n",
              "      <td>3</td>\n",
              "      <td>186061</td>\n",
              "      <td>10</td>\n",
              "      <td>6</td>\n",
              "      <td>3</td>\n",
              "      <td>4</td>\n",
              "      <td>2</td>\n",
              "      <td>0</td>\n",
              "      <td>40</td>\n",
              "      <td>0</td>\n",
              "    </tr>\n",
              "    <tr>\n",
              "      <th>3</th>\n",
              "      <td>54</td>\n",
              "      <td>3</td>\n",
              "      <td>140359</td>\n",
              "      <td>4</td>\n",
              "      <td>0</td>\n",
              "      <td>6</td>\n",
              "      <td>4</td>\n",
              "      <td>4</td>\n",
              "      <td>0</td>\n",
              "      <td>40</td>\n",
              "      <td>0</td>\n",
              "    </tr>\n",
              "    <tr>\n",
              "      <th>4</th>\n",
              "      <td>41</td>\n",
              "      <td>3</td>\n",
              "      <td>264663</td>\n",
              "      <td>10</td>\n",
              "      <td>5</td>\n",
              "      <td>9</td>\n",
              "      <td>3</td>\n",
              "      <td>4</td>\n",
              "      <td>0</td>\n",
              "      <td>40</td>\n",
              "      <td>0</td>\n",
              "    </tr>\n",
              "  </tbody>\n",
              "</table>\n",
              "</div>"
            ],
            "text/plain": [
              "   age  workclass  fnlwgt  education.num  ...  race  sex  hours.per.week  income\n",
              "0   90          3   77053              9  ...     4    0              40       0\n",
              "1   82          3  132870              9  ...     4    0              18       0\n",
              "2   66          3  186061             10  ...     2    0              40       0\n",
              "3   54          3  140359              4  ...     4    0              40       0\n",
              "4   41          3  264663             10  ...     4    0              40       0\n",
              "\n",
              "[5 rows x 11 columns]"
            ]
          },
          "metadata": {
            "tags": []
          },
          "execution_count": 139
        }
      ]
    },
    {
      "cell_type": "code",
      "metadata": {
        "id": "JNTsaDHTaPMf",
        "colab_type": "code",
        "colab": {
          "base_uri": "https://localhost:8080/",
          "height": 0
        },
        "outputId": "3c1daccf-3b6c-4e9a-dafa-fae7109e9ec4"
      },
      "source": [
        "plt.figure(figsize=(18,8))\n",
        "sns.heatmap(data.corr(),annot=True,cmap='Reds')"
      ],
      "execution_count": 140,
      "outputs": [
        {
          "output_type": "execute_result",
          "data": {
            "text/plain": [
              "<matplotlib.axes._subplots.AxesSubplot at 0x7f79ab81eb00>"
            ]
          },
          "metadata": {
            "tags": []
          },
          "execution_count": 140
        },
        {
          "output_type": "display_data",
          "data": {
            "image/png": "[encoded data removed]",
            "text/plain": [
              "<Figure size 1296x576 with 2 Axes>"
            ]
          },
          "metadata": {
            "tags": [],
            "needs_background": "light"
          }
        }
      ]
    },
    {
      "cell_type": "code",
      "metadata": {
        "id": "M1DfUhwqaQOC",
        "colab_type": "code",
        "colab": {
          "base_uri": "https://localhost:8080/",
          "height": 0
        },
        "outputId": "65a6cbce-1f7e-4712-96c7-6dbeab1d13d9"
      },
      "source": [
        "sns.countplot('education.num',data=data)"
      ],
      "execution_count": 141,
      "outputs": [
        {
          "output_type": "execute_result",
          "data": {
            "text/plain": [
              "<matplotlib.axes._subplots.AxesSubplot at 0x7f79ab7b3eb8>"
            ]
          },
          "metadata": {
            "tags": []
          },
          "execution_count": 141
        },
        {
          "output_type": "display_data",
          "data": {
            "image/png": "[encoded data removed]",
            "text/plain": [
              "<Figure size 432x288 with 1 Axes>"
            ]
          },
          "metadata": {
            "tags": [],
            "needs_background": "light"
          }
        }
      ]
    },
    {
      "cell_type": "code",
      "metadata": {
        "id": "ZMxbNYShaSUM",
        "colab_type": "code",
        "colab": {}
      },
      "source": [
        "#zero f1 for 1 if not droped\n",
        "data.drop('fnlwgt',1,inplace=True)"
      ],
      "execution_count": 142,
      "outputs": []
    },
    {
      "cell_type": "markdown",
      "metadata": {
        "id": "-RQIPYYyad_c",
        "colab_type": "text"
      },
      "source": [
        "# Train Test Split"
      ]
    },
    {
      "cell_type": "code",
      "metadata": {
        "id": "jLPDteY9acoP",
        "colab_type": "code",
        "colab": {}
      },
      "source": [
        "X = data.drop('income',1)\n",
        "y = data['income']"
      ],
      "execution_count": 143,
      "outputs": []
    },
    {
      "cell_type": "code",
      "metadata": {
        "id": "fS51X6kMalno",
        "colab_type": "code",
        "colab": {}
      },
      "source": [
        "X_train, X_test, y_train, y_test = train_test_split(X, y, test_size=0.25, stratify = y, random_state=7)"
      ],
      "execution_count": 144,
      "outputs": []
    },
    {
      "cell_type": "code",
      "metadata": {
        "id": "zBFV5zZJmGMs",
        "colab_type": "code",
        "colab": {}
      },
      "source": [
        "scaler = MinMaxScaler()\n",
        "#scaler = StandardScaler()"
      ],
      "execution_count": 145,
      "outputs": []
    },
    {
      "cell_type": "code",
      "metadata": {
        "id": "gTdVGWB_mKhD",
        "colab_type": "code",
        "colab": {}
      },
      "source": [
        "X_train = scaler.fit_transform(X_train)\n",
        "X_test = scaler.transform(X_test)"
      ],
      "execution_count": 146,
      "outputs": []
    },
    {
      "cell_type": "markdown",
      "metadata": {
        "id": "PmCrY_EsapUP",
        "colab_type": "text"
      },
      "source": [
        "# Logistic Regression"
      ]
    },
    {
      "cell_type": "code",
      "metadata": {
        "id": "4bmMia0qanyo",
        "colab_type": "code",
        "colab": {}
      },
      "source": [
        "logModel = LogisticRegression()"
      ],
      "execution_count": 147,
      "outputs": []
    },
    {
      "cell_type": "code",
      "metadata": {
        "id": "lg-uZMosausx",
        "colab_type": "code",
        "colab": {
          "base_uri": "https://localhost:8080/",
          "height": 0
        },
        "outputId": "a4788fed-e37f-4b5e-c673-d5cbe4dc5fb1"
      },
      "source": [
        "logModel.fit(X_train,y_train)"
      ],
      "execution_count": 148,
      "outputs": [
        {
          "output_type": "execute_result",
          "data": {
            "text/plain": [
              "LogisticRegression(C=1.0, class_weight=None, dual=False, fit_intercept=True,\n",
              "                   intercept_scaling=1, l1_ratio=None, max_iter=100,\n",
              "                   multi_class='auto', n_jobs=None, penalty='l2',\n",
              "                   random_state=None, solver='lbfgs', tol=0.0001, verbose=0,\n",
              "                   warm_start=False)"
            ]
          },
          "metadata": {
            "tags": []
          },
          "execution_count": 148
        }
      ]
    },
    {
      "cell_type": "code",
      "metadata": {
        "id": "7OVkP0dGawak",
        "colab_type": "code",
        "colab": {}
      },
      "source": [
        "predictions = logModel.predict(X_test)"
      ],
      "execution_count": 149,
      "outputs": []
    },
    {
      "cell_type": "code",
      "metadata": {
        "id": "-sHY5Deeaynp",
        "colab_type": "code",
        "colab": {
          "base_uri": "https://localhost:8080/",
          "height": 0
        },
        "outputId": "c68a98d7-4a27-41df-ccb0-f582b5c14cd5"
      },
      "source": [
        "print(classification_report(y_test,predictions))"
      ],
      "execution_count": 150,
      "outputs": [
        {
          "output_type": "stream",
          "text": [
            "              precision    recall  f1-score   support\n",
            "\n",
            "           0       0.83      0.94      0.88      5497\n",
            "           1       0.67      0.39      0.49      1792\n",
            "\n",
            "    accuracy                           0.80      7289\n",
            "   macro avg       0.75      0.66      0.69      7289\n",
            "weighted avg       0.79      0.80      0.78      7289\n",
            "\n"
          ],
          "name": "stdout"
        }
      ]
    },
    {
      "cell_type": "code",
      "metadata": {
        "id": "zHG-CDJnazrn",
        "colab_type": "code",
        "colab": {
          "base_uri": "https://localhost:8080/",
          "height": 0
        },
        "outputId": "4f2c69e1-7bec-4de4-e967-3ab29f5fb506"
      },
      "source": [
        "print(confusion_matrix(y_test,predictions))"
      ],
      "execution_count": 151,
      "outputs": [
        {
          "output_type": "stream",
          "text": [
            "[[5148  349]\n",
            " [1089  703]]\n"
          ],
          "name": "stdout"
        }
      ]
    },
    {
      "cell_type": "code",
      "metadata": {
        "id": "0urnkW6G51as",
        "colab_type": "code",
        "colab": {
          "base_uri": "https://localhost:8080/",
          "height": 0
        },
        "outputId": "eff50e51-aa1d-4ac2-fb8b-1dd9dbc7248c"
      },
      "source": [
        "logistic_regression_accuracy = accuracy_score(y_test,predictions)\n",
        "logistic_regression_accuracy"
      ],
      "execution_count": 152,
      "outputs": [
        {
          "output_type": "execute_result",
          "data": {
            "text/plain": [
              "0.8027164220057621"
            ]
          },
          "metadata": {
            "tags": []
          },
          "execution_count": 152
        }
      ]
    },
    {
      "cell_type": "code",
      "metadata": {
        "id": "-OpESDKd7ZUk",
        "colab_type": "code",
        "colab": {
          "base_uri": "https://localhost:8080/",
          "height": 0
        },
        "outputId": "71eafc1c-0958-41cf-8103-0daecf3b7e6d"
      },
      "source": [
        "logistic_regression_roc_auc_score = roc_auc_score(y_test,predictions)\n",
        "logistic_regression_roc_auc_score "
      ],
      "execution_count": 153,
      "outputs": [
        {
          "output_type": "execute_result",
          "data": {
            "text/plain": [
              "0.6644049656143611"
            ]
          },
          "metadata": {
            "tags": []
          },
          "execution_count": 153
        }
      ]
    },
    {
      "cell_type": "markdown",
      "metadata": {
        "id": "MsiTHJqna1mr",
        "colab_type": "text"
      },
      "source": [
        "# SVM"
      ]
    },
    {
      "cell_type": "code",
      "metadata": {
        "id": "ds-KhGE_a0zi",
        "colab_type": "code",
        "colab": {}
      },
      "source": [
        "svModel = SVC(C=100,gamma=1)"
      ],
      "execution_count": 154,
      "outputs": []
    },
    {
      "cell_type": "code",
      "metadata": {
        "id": "jFG9u-S4a5Dp",
        "colab_type": "code",
        "colab": {
          "base_uri": "https://localhost:8080/",
          "height": 0
        },
        "outputId": "79d5e2f3-aa15-4d4c-9c4c-8fa5cb47b474"
      },
      "source": [
        "svModel.fit(X_train,y_train)\n",
        "#c:100 gamma:1"
      ],
      "execution_count": 155,
      "outputs": [
        {
          "output_type": "execute_result",
          "data": {
            "text/plain": [
              "SVC(C=100, break_ties=False, cache_size=200, class_weight=None, coef0=0.0,\n",
              "    decision_function_shape='ovr', degree=3, gamma=1, kernel='rbf', max_iter=-1,\n",
              "    probability=False, random_state=None, shrinking=True, tol=0.001,\n",
              "    verbose=False)"
            ]
          },
          "metadata": {
            "tags": []
          },
          "execution_count": 155
        }
      ]
    },
    {
      "cell_type": "code",
      "metadata": {
        "id": "g9y7IeFca6EK",
        "colab_type": "code",
        "colab": {}
      },
      "source": [
        "predictions = svModel.predict(X_test)"
      ],
      "execution_count": 156,
      "outputs": []
    },
    {
      "cell_type": "code",
      "metadata": {
        "id": "LV2pGzrAa7Np",
        "colab_type": "code",
        "colab": {
          "base_uri": "https://localhost:8080/",
          "height": 0
        },
        "outputId": "c3a07596-1884-459c-a827-2bf77506d6ee"
      },
      "source": [
        "print(classification_report(y_test,predictions))"
      ],
      "execution_count": 157,
      "outputs": [
        {
          "output_type": "stream",
          "text": [
            "              precision    recall  f1-score   support\n",
            "\n",
            "           0       0.86      0.93      0.89      5497\n",
            "           1       0.71      0.54      0.61      1792\n",
            "\n",
            "    accuracy                           0.83      7289\n",
            "   macro avg       0.79      0.73      0.75      7289\n",
            "weighted avg       0.82      0.83      0.82      7289\n",
            "\n"
          ],
          "name": "stdout"
        }
      ]
    },
    {
      "cell_type": "code",
      "metadata": {
        "id": "BXa5-ZI_a8L8",
        "colab_type": "code",
        "colab": {
          "base_uri": "https://localhost:8080/",
          "height": 0
        },
        "outputId": "1988b5c1-0e76-42f8-9d71-4ce44c4201d5"
      },
      "source": [
        "print(confusion_matrix(y_test,predictions))"
      ],
      "execution_count": 158,
      "outputs": [
        {
          "output_type": "stream",
          "text": [
            "[[5108  389]\n",
            " [ 831  961]]\n"
          ],
          "name": "stdout"
        }
      ]
    },
    {
      "cell_type": "code",
      "metadata": {
        "id": "OBlpqGhB6KfL",
        "colab_type": "code",
        "colab": {
          "base_uri": "https://localhost:8080/",
          "height": 0
        },
        "outputId": "9df7c2ea-4b21-406c-afd9-0e1ea0b2e879"
      },
      "source": [
        "svm_accuracy = accuracy_score(y_test,predictions)\n",
        "svm_accuracy"
      ],
      "execution_count": 159,
      "outputs": [
        {
          "output_type": "execute_result",
          "data": {
            "text/plain": [
              "0.8326245026752641"
            ]
          },
          "metadata": {
            "tags": []
          },
          "execution_count": 159
        }
      ]
    },
    {
      "cell_type": "code",
      "metadata": {
        "id": "ML1TYpfP7ryR",
        "colab_type": "code",
        "colab": {
          "base_uri": "https://localhost:8080/",
          "height": 0
        },
        "outputId": "629bc89e-ac5f-4ff3-a7df-a8852feb5645"
      },
      "source": [
        "svm_roc_auc_score = roc_auc_score(y_test,predictions)\n",
        "svm_roc_auc_score "
      ],
      "execution_count": 160,
      "outputs": [
        {
          "output_type": "execute_result",
          "data": {
            "text/plain": [
              "0.7327532245672964"
            ]
          },
          "metadata": {
            "tags": []
          },
          "execution_count": 160
        }
      ]
    },
    {
      "cell_type": "code",
      "metadata": {
        "id": "lWPSUmstvEqZ",
        "colab_type": "code",
        "colab": {
          "base_uri": "https://localhost:8080/",
          "height": 0
        },
        "outputId": "c99ab266-00be-48d8-eb29-2c246e3cb9b9"
      },
      "source": [
        "'''from sklearn.model_selection import GridSearchCV\n",
        "param_grid = {'C':[0.1,1,10,100,1000],'gamma':[1,0.1,0.01,0.001,0.0001]}\n",
        "grid = GridSearchCV(SVC(),param_grid,verbose=3)\n",
        "grid.fit(X_train,y_train)'''"
      ],
      "execution_count": 161,
      "outputs": [
        {
          "output_type": "execute_result",
          "data": {
            "application/vnd.google.colaboratory.intrinsic+json": {
              "type": "string"
            },
            "text/plain": [
              "\"from sklearn.model_selection import GridSearchCV\\nparam_grid = {'C':[0.1,1,10,100,1000],'gamma':[1,0.1,0.01,0.001,0.0001]}\\ngrid = GridSearchCV(SVC(),param_grid,verbose=3)\\ngrid.fit(X_train,y_train)\""
            ]
          },
          "metadata": {
            "tags": []
          },
          "execution_count": 161
        }
      ]
    },
    {
      "cell_type": "code",
      "metadata": {
        "id": "XIuvwhDGvWyK",
        "colab_type": "code",
        "colab": {}
      },
      "source": [
        "#grid.best_params_"
      ],
      "execution_count": 162,
      "outputs": []
    },
    {
      "cell_type": "code",
      "metadata": {
        "id": "aHE8y-UmvYTz",
        "colab_type": "code",
        "colab": {}
      },
      "source": [
        "#grid.best_estimator_"
      ],
      "execution_count": 163,
      "outputs": []
    },
    {
      "cell_type": "code",
      "metadata": {
        "id": "p1IECRunvaUl",
        "colab_type": "code",
        "colab": {}
      },
      "source": [
        "#grid_predictions = grid.predict(X_test)"
      ],
      "execution_count": 164,
      "outputs": []
    },
    {
      "cell_type": "code",
      "metadata": {
        "id": "X_0USKoEvcaA",
        "colab_type": "code",
        "colab": {}
      },
      "source": [
        "#print(classification_report(y_test,predictions))"
      ],
      "execution_count": 165,
      "outputs": []
    },
    {
      "cell_type": "markdown",
      "metadata": {
        "id": "I3qcrN5Xa_sT",
        "colab_type": "text"
      },
      "source": [
        "# Decision Tree"
      ]
    },
    {
      "cell_type": "code",
      "metadata": {
        "id": "jfKQeAiQa9my",
        "colab_type": "code",
        "colab": {}
      },
      "source": [
        "dtree = DecisionTreeClassifier()"
      ],
      "execution_count": 166,
      "outputs": []
    },
    {
      "cell_type": "code",
      "metadata": {
        "id": "pVMiySjVbEpQ",
        "colab_type": "code",
        "colab": {
          "base_uri": "https://localhost:8080/",
          "height": 0
        },
        "outputId": "2844de7a-0251-4b5e-9da4-a09bd2f12a5f"
      },
      "source": [
        "dtree.fit(X_train,y_train)"
      ],
      "execution_count": 167,
      "outputs": [
        {
          "output_type": "execute_result",
          "data": {
            "text/plain": [
              "DecisionTreeClassifier(ccp_alpha=0.0, class_weight=None, criterion='gini',\n",
              "                       max_depth=None, max_features=None, max_leaf_nodes=None,\n",
              "                       min_impurity_decrease=0.0, min_impurity_split=None,\n",
              "                       min_samples_leaf=1, min_samples_split=2,\n",
              "                       min_weight_fraction_leaf=0.0, presort='deprecated',\n",
              "                       random_state=None, splitter='best')"
            ]
          },
          "metadata": {
            "tags": []
          },
          "execution_count": 167
        }
      ]
    },
    {
      "cell_type": "code",
      "metadata": {
        "id": "YA13LdAWbFfT",
        "colab_type": "code",
        "colab": {}
      },
      "source": [
        "prediction = dtree.predict(X_test)"
      ],
      "execution_count": 168,
      "outputs": []
    },
    {
      "cell_type": "code",
      "metadata": {
        "id": "Hwl6ESIybGpN",
        "colab_type": "code",
        "colab": {
          "base_uri": "https://localhost:8080/",
          "height": 0
        },
        "outputId": "e33dd8a3-c0f0-49bf-b05a-0211e7b3cb29"
      },
      "source": [
        "print(classification_report(y_test,prediction))"
      ],
      "execution_count": 169,
      "outputs": [
        {
          "output_type": "stream",
          "text": [
            "              precision    recall  f1-score   support\n",
            "\n",
            "           0       0.85      0.86      0.86      5497\n",
            "           1       0.56      0.54      0.55      1792\n",
            "\n",
            "    accuracy                           0.78      7289\n",
            "   macro avg       0.70      0.70      0.70      7289\n",
            "weighted avg       0.78      0.78      0.78      7289\n",
            "\n"
          ],
          "name": "stdout"
        }
      ]
    },
    {
      "cell_type": "code",
      "metadata": {
        "id": "aLWDl9WSbHzG",
        "colab_type": "code",
        "colab": {
          "base_uri": "https://localhost:8080/",
          "height": 0
        },
        "outputId": "9267d3f9-ab9d-4151-eb93-fcc9ce2f0bcf"
      },
      "source": [
        "print(confusion_matrix(y_test,prediction))"
      ],
      "execution_count": 170,
      "outputs": [
        {
          "output_type": "stream",
          "text": [
            "[[4717  780]\n",
            " [ 819  973]]\n"
          ],
          "name": "stdout"
        }
      ]
    },
    {
      "cell_type": "code",
      "metadata": {
        "id": "pO-WC7np6PYh",
        "colab_type": "code",
        "colab": {
          "base_uri": "https://localhost:8080/",
          "height": 0
        },
        "outputId": "c4730ec8-8b70-4c27-f9a8-a47e8b09a7c1"
      },
      "source": [
        "descision_tree_accuracy = accuracy_score(y_test,prediction)\n",
        "descision_tree_accuracy"
      ],
      "execution_count": 171,
      "outputs": [
        {
          "output_type": "execute_result",
          "data": {
            "text/plain": [
              "0.7806283440801207"
            ]
          },
          "metadata": {
            "tags": []
          },
          "execution_count": 171
        }
      ]
    },
    {
      "cell_type": "code",
      "metadata": {
        "id": "o4y95hBr75R_",
        "colab_type": "code",
        "colab": {
          "base_uri": "https://localhost:8080/",
          "height": 0
        },
        "outputId": "b7bc2043-e7d9-4005-ab07-73118e05ee88"
      },
      "source": [
        "descision_tree_roc_auc_score = roc_auc_score(y_test,prediction)\n",
        "descision_tree_roc_auc_score "
      ],
      "execution_count": 172,
      "outputs": [
        {
          "output_type": "execute_result",
          "data": {
            "text/plain": [
              "0.7005365852965254"
            ]
          },
          "metadata": {
            "tags": []
          },
          "execution_count": 172
        }
      ]
    },
    {
      "cell_type": "code",
      "metadata": {
        "id": "zS9BteWAytCO",
        "colab_type": "code",
        "colab": {}
      },
      "source": [
        "#tree.plot_tree(dtree) "
      ],
      "execution_count": 173,
      "outputs": []
    },
    {
      "cell_type": "markdown",
      "metadata": {
        "id": "gGTNNfZMbK-n",
        "colab_type": "text"
      },
      "source": [
        "# Random Forest"
      ]
    },
    {
      "cell_type": "code",
      "metadata": {
        "id": "FK10_0iJbJOJ",
        "colab_type": "code",
        "colab": {}
      },
      "source": [
        "rfc = RandomForestClassifier(n_estimators=300)"
      ],
      "execution_count": 174,
      "outputs": []
    },
    {
      "cell_type": "code",
      "metadata": {
        "id": "7E0A9-lVbOnL",
        "colab_type": "code",
        "colab": {
          "base_uri": "https://localhost:8080/",
          "height": 0
        },
        "outputId": "fe5a1d37-daa0-4483-d777-1a78d4679e41"
      },
      "source": [
        "rfc.fit(X_train,y_train)"
      ],
      "execution_count": 175,
      "outputs": [
        {
          "output_type": "execute_result",
          "data": {
            "text/plain": [
              "RandomForestClassifier(bootstrap=True, ccp_alpha=0.0, class_weight=None,\n",
              "                       criterion='gini', max_depth=None, max_features='auto',\n",
              "                       max_leaf_nodes=None, max_samples=None,\n",
              "                       min_impurity_decrease=0.0, min_impurity_split=None,\n",
              "                       min_samples_leaf=1, min_samples_split=2,\n",
              "                       min_weight_fraction_leaf=0.0, n_estimators=300,\n",
              "                       n_jobs=None, oob_score=False, random_state=None,\n",
              "                       verbose=0, warm_start=False)"
            ]
          },
          "metadata": {
            "tags": []
          },
          "execution_count": 175
        }
      ]
    },
    {
      "cell_type": "code",
      "metadata": {
        "id": "43Z6JjhabPeT",
        "colab_type": "code",
        "colab": {}
      },
      "source": [
        "prediction = rfc.predict(X_test)"
      ],
      "execution_count": 176,
      "outputs": []
    },
    {
      "cell_type": "code",
      "metadata": {
        "id": "-egb1swAbSru",
        "colab_type": "code",
        "colab": {
          "base_uri": "https://localhost:8080/",
          "height": 0
        },
        "outputId": "2cbe2a69-f152-41c1-f53d-1523300f1250"
      },
      "source": [
        "print(classification_report(y_test,prediction))"
      ],
      "execution_count": 177,
      "outputs": [
        {
          "output_type": "stream",
          "text": [
            "              precision    recall  f1-score   support\n",
            "\n",
            "           0       0.87      0.89      0.88      5497\n",
            "           1       0.64      0.58      0.61      1792\n",
            "\n",
            "    accuracy                           0.82      7289\n",
            "   macro avg       0.76      0.74      0.75      7289\n",
            "weighted avg       0.81      0.82      0.82      7289\n",
            "\n"
          ],
          "name": "stdout"
        }
      ]
    },
    {
      "cell_type": "code",
      "metadata": {
        "id": "iPB1KYFPbVDb",
        "colab_type": "code",
        "colab": {
          "base_uri": "https://localhost:8080/",
          "height": 0
        },
        "outputId": "42989e84-f902-429f-f2df-43d6a3b647a5"
      },
      "source": [
        "print(confusion_matrix(y_test,prediction))"
      ],
      "execution_count": 178,
      "outputs": [
        {
          "output_type": "stream",
          "text": [
            "[[4919  578]\n",
            " [ 746 1046]]\n"
          ],
          "name": "stdout"
        }
      ]
    },
    {
      "cell_type": "code",
      "metadata": {
        "id": "_f-k9cPS6Wmu",
        "colab_type": "code",
        "colab": {
          "base_uri": "https://localhost:8080/",
          "height": 0
        },
        "outputId": "49d263c8-476c-4528-dd6b-d7a39775ce0a"
      },
      "source": [
        "random_forest_accuracy = accuracy_score(y_test,prediction)\n",
        "random_forest_accuracy"
      ],
      "execution_count": 179,
      "outputs": [
        {
          "output_type": "execute_result",
          "data": {
            "text/plain": [
              "0.8183564274934834"
            ]
          },
          "metadata": {
            "tags": []
          },
          "execution_count": 179
        }
      ]
    },
    {
      "cell_type": "code",
      "metadata": {
        "id": "Mzn0jOMS8Aj6",
        "colab_type": "code",
        "colab": {
          "base_uri": "https://localhost:8080/",
          "height": 0
        },
        "outputId": "6edea233-59a3-45f0-b7ea-c3d74d5c8223"
      },
      "source": [
        "random_forest_roc_auc_score = roc_auc_score(y_test,prediction)\n",
        "random_forest_roc_auc_score "
      ],
      "execution_count": 180,
      "outputs": [
        {
          "output_type": "execute_result",
          "data": {
            "text/plain": [
              "0.7392785472270589"
            ]
          },
          "metadata": {
            "tags": []
          },
          "execution_count": 180
        }
      ]
    },
    {
      "cell_type": "markdown",
      "metadata": {
        "id": "z8GCCQZpdO9A",
        "colab_type": "text"
      },
      "source": [
        "# ANN"
      ]
    },
    {
      "cell_type": "code",
      "metadata": {
        "id": "DC0zDyUUcCj8",
        "colab_type": "code",
        "colab": {}
      },
      "source": [
        "#from sklearn.preprocessing import MinMaxScaler"
      ],
      "execution_count": 282,
      "outputs": []
    },
    {
      "cell_type": "code",
      "metadata": {
        "id": "smdXG3ICeTsa",
        "colab_type": "code",
        "colab": {}
      },
      "source": [
        "#min_max_scaler = MinMaxScaler()"
      ],
      "execution_count": 283,
      "outputs": []
    },
    {
      "cell_type": "code",
      "metadata": {
        "id": "JZTvwdjqeXRB",
        "colab_type": "code",
        "colab": {}
      },
      "source": [
        "X_train = scaler.fit_transform(X_train)\n",
        "X_test = scaler.transform(X_test)"
      ],
      "execution_count": 284,
      "outputs": []
    },
    {
      "cell_type": "code",
      "metadata": {
        "id": "PaOIueOrefTA",
        "colab_type": "code",
        "colab": {}
      },
      "source": [
        "model = Sequential()\n",
        "\n",
        "model.add(Dense(9,'relu'))\n",
        "\n",
        "model.add(Dense(5,'relu'))\n",
        "\n",
        "model.add(Dense(3,'relu'))\n",
        "\n",
        "model.add(Dense(1,'sigmoid'))\n",
        "\n",
        "model.compile('adam','binary_crossentropy')"
      ],
      "execution_count": 285,
      "outputs": []
    },
    {
      "cell_type": "code",
      "metadata": {
        "id": "-86Z81Kge7dh",
        "colab_type": "code",
        "colab": {
          "base_uri": "https://localhost:8080/",
          "height": 1000
        },
        "outputId": "7b9f3cbd-6354-4c3e-c9f2-d9a3ea8bda08"
      },
      "source": [
        "model.fit(X_train,y_train,batch_size=15,epochs=30,validation_data=(X_test,y_test))"
      ],
      "execution_count": 286,
      "outputs": [
        {
          "output_type": "stream",
          "text": [
            "Epoch 1/30\n",
            "1458/1458 [==============================] - 2s 1ms/step - loss: 0.5245 - val_loss: 0.4760\n",
            "Epoch 2/30\n",
            "1458/1458 [==============================] - 2s 1ms/step - loss: 0.4628 - val_loss: 0.4482\n",
            "Epoch 3/30\n",
            "1458/1458 [==============================] - 2s 1ms/step - loss: 0.4378 - val_loss: 0.4224\n",
            "Epoch 4/30\n",
            "1458/1458 [==============================] - 2s 1ms/step - loss: 0.4174 - val_loss: 0.4063\n",
            "Epoch 5/30\n",
            "1458/1458 [==============================] - 2s 1ms/step - loss: 0.4048 - val_loss: 0.3979\n",
            "Epoch 6/30\n",
            "1458/1458 [==============================] - 2s 1ms/step - loss: 0.3981 - val_loss: 0.3941\n",
            "Epoch 7/30\n",
            "1458/1458 [==============================] - 2s 1ms/step - loss: 0.3939 - val_loss: 0.3885\n",
            "Epoch 8/30\n",
            "1458/1458 [==============================] - 2s 1ms/step - loss: 0.3908 - val_loss: 0.3856\n",
            "Epoch 9/30\n",
            "1458/1458 [==============================] - 2s 1ms/step - loss: 0.3878 - val_loss: 0.3837\n",
            "Epoch 10/30\n",
            "1458/1458 [==============================] - 2s 1ms/step - loss: 0.3853 - val_loss: 0.3811\n",
            "Epoch 11/30\n",
            "1458/1458 [==============================] - 2s 1ms/step - loss: 0.3816 - val_loss: 0.3804\n",
            "Epoch 12/30\n",
            "1458/1458 [==============================] - 2s 1ms/step - loss: 0.3789 - val_loss: 0.3738\n",
            "Epoch 13/30\n",
            "1458/1458 [==============================] - 2s 1ms/step - loss: 0.3758 - val_loss: 0.3727\n",
            "Epoch 14/30\n",
            "1458/1458 [==============================] - 2s 1ms/step - loss: 0.3738 - val_loss: 0.3715\n",
            "Epoch 15/30\n",
            "1458/1458 [==============================] - 2s 1ms/step - loss: 0.3717 - val_loss: 0.3719\n",
            "Epoch 16/30\n",
            "1458/1458 [==============================] - 2s 1ms/step - loss: 0.3717 - val_loss: 0.3759\n",
            "Epoch 17/30\n",
            "1458/1458 [==============================] - 2s 1ms/step - loss: 0.3712 - val_loss: 0.3690\n",
            "Epoch 18/30\n",
            "1458/1458 [==============================] - 2s 1ms/step - loss: 0.3706 - val_loss: 0.3768\n",
            "Epoch 19/30\n",
            "1458/1458 [==============================] - 2s 1ms/step - loss: 0.3698 - val_loss: 0.3754\n",
            "Epoch 20/30\n",
            "1458/1458 [==============================] - 2s 1ms/step - loss: 0.3699 - val_loss: 0.3667\n",
            "Epoch 21/30\n",
            "1458/1458 [==============================] - 2s 1ms/step - loss: 0.3692 - val_loss: 0.3682\n",
            "Epoch 22/30\n",
            "1458/1458 [==============================] - 2s 1ms/step - loss: 0.3683 - val_loss: 0.3723\n",
            "Epoch 23/30\n",
            "1458/1458 [==============================] - 2s 1ms/step - loss: 0.3684 - val_loss: 0.3682\n",
            "Epoch 24/30\n",
            "1458/1458 [==============================] - 2s 1ms/step - loss: 0.3675 - val_loss: 0.3656\n",
            "Epoch 25/30\n",
            "1458/1458 [==============================] - 2s 1ms/step - loss: 0.3674 - val_loss: 0.3667\n",
            "Epoch 26/30\n",
            "1458/1458 [==============================] - 2s 1ms/step - loss: 0.3671 - val_loss: 0.3677\n",
            "Epoch 27/30\n",
            "1458/1458 [==============================] - 2s 1ms/step - loss: 0.3667 - val_loss: 0.3742\n",
            "Epoch 28/30\n",
            "1458/1458 [==============================] - 2s 1ms/step - loss: 0.3658 - val_loss: 0.3631\n",
            "Epoch 29/30\n",
            "1458/1458 [==============================] - 2s 1ms/step - loss: 0.3659 - val_loss: 0.3665\n",
            "Epoch 30/30\n",
            "1458/1458 [==============================] - 2s 1ms/step - loss: 0.3651 - val_loss: 0.3689\n"
          ],
          "name": "stdout"
        },
        {
          "output_type": "execute_result",
          "data": {
            "text/plain": [
              "<tensorflow.python.keras.callbacks.History at 0x7f79a31e5ef0>"
            ]
          },
          "metadata": {
            "tags": []
          },
          "execution_count": 286
        }
      ]
    },
    {
      "cell_type": "code",
      "metadata": {
        "id": "ebTsa5rCfFyO",
        "colab_type": "code",
        "colab": {
          "base_uri": "https://localhost:8080/",
          "height": 282
        },
        "outputId": "3c7fc3ff-78c7-426b-ead9-14df0fb0cec7"
      },
      "source": [
        "pd.DataFrame(model.history.history).plot()"
      ],
      "execution_count": 287,
      "outputs": [
        {
          "output_type": "execute_result",
          "data": {
            "text/plain": [
              "<matplotlib.axes._subplots.AxesSubplot at 0x7f79a17b54a8>"
            ]
          },
          "metadata": {
            "tags": []
          },
          "execution_count": 287
        },
        {
          "output_type": "display_data",
          "data": {
            "image/png": "[encoded data removed]",
            "text/plain": [
              "<Figure size 432x288 with 1 Axes>"
            ]
          },
          "metadata": {
            "tags": [],
            "needs_background": "light"
          }
        }
      ]
    },
    {
      "cell_type": "code",
      "metadata": {
        "id": "96NZ8Bkvjwzt",
        "colab_type": "code",
        "colab": {}
      },
      "source": [
        "pred = model.predict_classes(X_test)"
      ],
      "execution_count": 288,
      "outputs": []
    },
    {
      "cell_type": "code",
      "metadata": {
        "id": "Cc-a2trkjyFt",
        "colab_type": "code",
        "colab": {
          "base_uri": "https://localhost:8080/",
          "height": 168
        },
        "outputId": "65cc3a8a-23ed-49d7-bd47-a6ac5dc0ca49"
      },
      "source": [
        "print(classification_report(y_test,pred))"
      ],
      "execution_count": 289,
      "outputs": [
        {
          "output_type": "stream",
          "text": [
            "              precision    recall  f1-score   support\n",
            "\n",
            "           0       0.89      0.87      0.88      5497\n",
            "           1       0.63      0.68      0.66      1792\n",
            "\n",
            "    accuracy                           0.82      7289\n",
            "   macro avg       0.76      0.78      0.77      7289\n",
            "weighted avg       0.83      0.82      0.83      7289\n",
            "\n"
          ],
          "name": "stdout"
        }
      ]
    },
    {
      "cell_type": "code",
      "metadata": {
        "id": "YQ4HBQ6xfY_I",
        "colab_type": "code",
        "colab": {}
      },
      "source": [
        "from tensorflow.keras.callbacks import EarlyStopping"
      ],
      "execution_count": 290,
      "outputs": []
    },
    {
      "cell_type": "code",
      "metadata": {
        "id": "p6aFkX62gJsz",
        "colab_type": "code",
        "colab": {}
      },
      "source": [
        "early_stop = EarlyStopping(monitor='val_loss', mode='min',verbose=1,patience=25)"
      ],
      "execution_count": 291,
      "outputs": []
    },
    {
      "cell_type": "code",
      "metadata": {
        "id": "3P2Q5477gnlP",
        "colab_type": "code",
        "colab": {}
      },
      "source": [
        "model = Sequential()\n",
        "\n",
        "model.add(Dense(9,'relu'))\n",
        "\n",
        "model.add(Dense(5,'relu'))\n",
        "\n",
        "model.add(Dense(1,'sigmoid'))\n",
        "\n",
        "model.compile('adam','binary_crossentropy')"
      ],
      "execution_count": 292,
      "outputs": []
    },
    {
      "cell_type": "code",
      "metadata": {
        "id": "8Mow8uI_gYem",
        "colab_type": "code",
        "colab": {
          "base_uri": "https://localhost:8080/",
          "height": 1000
        },
        "outputId": "d2c28e3d-652a-49af-c63b-f02907d91407"
      },
      "source": [
        "model.fit(X_train,y_train,batch_size=15,epochs=60,validation_data=(X_test,y_test),callbacks=[early_stop])"
      ],
      "execution_count": 293,
      "outputs": [
        {
          "output_type": "stream",
          "text": [
            "Epoch 1/60\n",
            "1458/1458 [==============================] - 2s 2ms/step - loss: 0.4876 - val_loss: 0.4394\n",
            "Epoch 2/60\n",
            "1458/1458 [==============================] - 2s 1ms/step - loss: 0.4235 - val_loss: 0.4054\n",
            "Epoch 3/60\n",
            "1458/1458 [==============================] - 2s 1ms/step - loss: 0.3998 - val_loss: 0.3924\n",
            "Epoch 4/60\n",
            "1458/1458 [==============================] - 2s 1ms/step - loss: 0.3878 - val_loss: 0.3811\n",
            "Epoch 5/60\n",
            "1458/1458 [==============================] - 2s 1ms/step - loss: 0.3823 - val_loss: 0.3792\n",
            "Epoch 6/60\n",
            "1458/1458 [==============================] - 2s 1ms/step - loss: 0.3795 - val_loss: 0.3733\n",
            "Epoch 7/60\n",
            "1458/1458 [==============================] - 2s 1ms/step - loss: 0.3773 - val_loss: 0.3708\n",
            "Epoch 8/60\n",
            "1458/1458 [==============================] - 2s 1ms/step - loss: 0.3760 - val_loss: 0.3699\n",
            "Epoch 9/60\n",
            "1458/1458 [==============================] - 2s 1ms/step - loss: 0.3748 - val_loss: 0.3694\n",
            "Epoch 10/60\n",
            "1458/1458 [==============================] - 2s 1ms/step - loss: 0.3741 - val_loss: 0.3680\n",
            "Epoch 11/60\n",
            "1458/1458 [==============================] - 2s 1ms/step - loss: 0.3731 - val_loss: 0.3664\n",
            "Epoch 12/60\n",
            "1458/1458 [==============================] - 2s 1ms/step - loss: 0.3725 - val_loss: 0.3680\n",
            "Epoch 13/60\n",
            "1458/1458 [==============================] - 2s 1ms/step - loss: 0.3718 - val_loss: 0.3664\n",
            "Epoch 14/60\n",
            "1458/1458 [==============================] - 2s 1ms/step - loss: 0.3709 - val_loss: 0.3650\n",
            "Epoch 15/60\n",
            "1458/1458 [==============================] - 2s 1ms/step - loss: 0.3705 - val_loss: 0.3646\n",
            "Epoch 16/60\n",
            "1458/1458 [==============================] - 2s 1ms/step - loss: 0.3696 - val_loss: 0.3643\n",
            "Epoch 17/60\n",
            "1458/1458 [==============================] - 2s 1ms/step - loss: 0.3690 - val_loss: 0.3658\n",
            "Epoch 18/60\n",
            "1458/1458 [==============================] - 2s 1ms/step - loss: 0.3688 - val_loss: 0.3677\n",
            "Epoch 19/60\n",
            "1458/1458 [==============================] - 2s 1ms/step - loss: 0.3681 - val_loss: 0.3698\n",
            "Epoch 20/60\n",
            "1458/1458 [==============================] - 2s 1ms/step - loss: 0.3677 - val_loss: 0.3637\n",
            "Epoch 21/60\n",
            "1458/1458 [==============================] - 2s 1ms/step - loss: 0.3681 - val_loss: 0.3668\n",
            "Epoch 22/60\n",
            "1458/1458 [==============================] - 2s 1ms/step - loss: 0.3675 - val_loss: 0.3670\n",
            "Epoch 23/60\n",
            "1458/1458 [==============================] - 2s 1ms/step - loss: 0.3671 - val_loss: 0.3639\n",
            "Epoch 24/60\n",
            "1458/1458 [==============================] - 2s 1ms/step - loss: 0.3667 - val_loss: 0.3641\n",
            "Epoch 25/60\n",
            "1458/1458 [==============================] - 2s 1ms/step - loss: 0.3664 - val_loss: 0.3625\n",
            "Epoch 26/60\n",
            "1458/1458 [==============================] - 2s 1ms/step - loss: 0.3664 - val_loss: 0.3655\n",
            "Epoch 27/60\n",
            "1458/1458 [==============================] - 2s 1ms/step - loss: 0.3661 - val_loss: 0.3645\n",
            "Epoch 28/60\n",
            "1458/1458 [==============================] - 2s 1ms/step - loss: 0.3660 - val_loss: 0.3633\n",
            "Epoch 29/60\n",
            "1458/1458 [==============================] - 2s 1ms/step - loss: 0.3657 - val_loss: 0.3627\n",
            "Epoch 30/60\n",
            "1458/1458 [==============================] - 2s 1ms/step - loss: 0.3654 - val_loss: 0.3663\n",
            "Epoch 31/60\n",
            "1458/1458 [==============================] - 2s 1ms/step - loss: 0.3653 - val_loss: 0.3628\n",
            "Epoch 32/60\n",
            "1458/1458 [==============================] - 2s 1ms/step - loss: 0.3649 - val_loss: 0.3644\n",
            "Epoch 33/60\n",
            "1458/1458 [==============================] - 2s 1ms/step - loss: 0.3654 - val_loss: 0.3635\n",
            "Epoch 34/60\n",
            "1458/1458 [==============================] - 2s 1ms/step - loss: 0.3652 - val_loss: 0.3613\n",
            "Epoch 35/60\n",
            "1458/1458 [==============================] - 2s 1ms/step - loss: 0.3646 - val_loss: 0.3632\n",
            "Epoch 36/60\n",
            "1458/1458 [==============================] - 2s 1ms/step - loss: 0.3642 - val_loss: 0.3636\n",
            "Epoch 37/60\n",
            "1458/1458 [==============================] - 2s 1ms/step - loss: 0.3639 - val_loss: 0.3730\n",
            "Epoch 38/60\n",
            "1458/1458 [==============================] - 2s 1ms/step - loss: 0.3643 - val_loss: 0.3610\n",
            "Epoch 39/60\n",
            "1458/1458 [==============================] - 2s 1ms/step - loss: 0.3635 - val_loss: 0.3622\n",
            "Epoch 40/60\n",
            "1458/1458 [==============================] - 2s 1ms/step - loss: 0.3639 - val_loss: 0.3612\n",
            "Epoch 41/60\n",
            "1458/1458 [==============================] - 2s 1ms/step - loss: 0.3633 - val_loss: 0.3651\n",
            "Epoch 42/60\n",
            "1458/1458 [==============================] - 2s 1ms/step - loss: 0.3640 - val_loss: 0.3629\n",
            "Epoch 43/60\n",
            "1458/1458 [==============================] - 2s 1ms/step - loss: 0.3634 - val_loss: 0.3616\n",
            "Epoch 44/60\n",
            "1458/1458 [==============================] - 2s 1ms/step - loss: 0.3631 - val_loss: 0.3659\n",
            "Epoch 45/60\n",
            "1458/1458 [==============================] - 2s 1ms/step - loss: 0.3629 - val_loss: 0.3613\n",
            "Epoch 46/60\n",
            "1458/1458 [==============================] - 2s 1ms/step - loss: 0.3629 - val_loss: 0.3617\n",
            "Epoch 47/60\n",
            "1458/1458 [==============================] - 2s 1ms/step - loss: 0.3626 - val_loss: 0.3612\n",
            "Epoch 48/60\n",
            "1458/1458 [==============================] - 2s 1ms/step - loss: 0.3618 - val_loss: 0.3605\n",
            "Epoch 49/60\n",
            "1458/1458 [==============================] - 2s 1ms/step - loss: 0.3624 - val_loss: 0.3607\n",
            "Epoch 50/60\n",
            "1458/1458 [==============================] - 2s 1ms/step - loss: 0.3629 - val_loss: 0.3634\n",
            "Epoch 51/60\n",
            "1458/1458 [==============================] - 2s 1ms/step - loss: 0.3624 - val_loss: 0.3623\n",
            "Epoch 52/60\n",
            "1458/1458 [==============================] - 2s 1ms/step - loss: 0.3627 - val_loss: 0.3614\n",
            "Epoch 53/60\n",
            "1458/1458 [==============================] - 2s 1ms/step - loss: 0.3623 - val_loss: 0.3611\n",
            "Epoch 54/60\n",
            "1458/1458 [==============================] - 2s 1ms/step - loss: 0.3614 - val_loss: 0.3626\n",
            "Epoch 55/60\n",
            "1458/1458 [==============================] - 2s 1ms/step - loss: 0.3614 - val_loss: 0.3607\n",
            "Epoch 56/60\n",
            "1458/1458 [==============================] - 2s 1ms/step - loss: 0.3616 - val_loss: 0.3593\n",
            "Epoch 57/60\n",
            "1458/1458 [==============================] - 2s 1ms/step - loss: 0.3614 - val_loss: 0.3600\n",
            "Epoch 58/60\n",
            "1458/1458 [==============================] - 2s 1ms/step - loss: 0.3613 - val_loss: 0.3605\n",
            "Epoch 59/60\n",
            "1458/1458 [==============================] - 2s 1ms/step - loss: 0.3618 - val_loss: 0.3594\n",
            "Epoch 60/60\n",
            "1458/1458 [==============================] - 2s 1ms/step - loss: 0.3609 - val_loss: 0.3612\n"
          ],
          "name": "stdout"
        },
        {
          "output_type": "execute_result",
          "data": {
            "text/plain": [
              "<tensorflow.python.keras.callbacks.History at 0x7f799fe996d8>"
            ]
          },
          "metadata": {
            "tags": []
          },
          "execution_count": 293
        }
      ]
    },
    {
      "cell_type": "code",
      "metadata": {
        "id": "MMm34YqcgoXN",
        "colab_type": "code",
        "colab": {
          "base_uri": "https://localhost:8080/",
          "height": 282
        },
        "outputId": "08919874-46b9-452b-f339-1e945cb96c06"
      },
      "source": [
        "pd.DataFrame(model.history.history).plot()"
      ],
      "execution_count": 294,
      "outputs": [
        {
          "output_type": "execute_result",
          "data": {
            "text/plain": [
              "<matplotlib.axes._subplots.AxesSubplot at 0x7f799fecaa58>"
            ]
          },
          "metadata": {
            "tags": []
          },
          "execution_count": 294
        },
        {
          "output_type": "display_data",
          "data": {
            "image/png": "[encoded data removed]",
            "text/plain": [
              "<Figure size 432x288 with 1 Axes>"
            ]
          },
          "metadata": {
            "tags": [],
            "needs_background": "light"
          }
        }
      ]
    },
    {
      "cell_type": "code",
      "metadata": {
        "id": "kBqoTfqthIYA",
        "colab_type": "code",
        "colab": {}
      },
      "source": [
        "nnpred = model.predict_classes(X_test)"
      ],
      "execution_count": 295,
      "outputs": []
    },
    {
      "cell_type": "code",
      "metadata": {
        "id": "iX64nau5g6VM",
        "colab_type": "code",
        "colab": {
          "base_uri": "https://localhost:8080/",
          "height": 168
        },
        "outputId": "d36a6f54-42c8-49f0-ce8e-4cd27af4466a"
      },
      "source": [
        "print(classification_report(y_test,nnpred))"
      ],
      "execution_count": 296,
      "outputs": [
        {
          "output_type": "stream",
          "text": [
            "              precision    recall  f1-score   support\n",
            "\n",
            "           0       0.88      0.90      0.89      5497\n",
            "           1       0.66      0.61      0.63      1792\n",
            "\n",
            "    accuracy                           0.83      7289\n",
            "   macro avg       0.77      0.75      0.76      7289\n",
            "weighted avg       0.82      0.83      0.82      7289\n",
            "\n"
          ],
          "name": "stdout"
        }
      ]
    },
    {
      "cell_type": "code",
      "metadata": {
        "id": "Zf6VGAu48Sq2",
        "colab_type": "code",
        "colab": {
          "base_uri": "https://localhost:8080/",
          "height": 34
        },
        "outputId": "329d789e-22be-4c82-f022-346a17bf1556"
      },
      "source": [
        "ann_accuracy = accuracy_score(y_test,nnpred)\n",
        "ann_accuracy"
      ],
      "execution_count": 297,
      "outputs": [
        {
          "output_type": "execute_result",
          "data": {
            "text/plain": [
              "0.8253532720537796"
            ]
          },
          "metadata": {
            "tags": []
          },
          "execution_count": 297
        }
      ]
    },
    {
      "cell_type": "code",
      "metadata": {
        "id": "dOYRa7q48kfC",
        "colab_type": "code",
        "colab": {
          "base_uri": "https://localhost:8080/",
          "height": 34
        },
        "outputId": "af77b797-a7da-48b0-adee-a3bc2df43b94"
      },
      "source": [
        "ann_roc_auc_score = roc_auc_score(y_test,nnpred)\n",
        "ann_roc_auc_score"
      ],
      "execution_count": 298,
      "outputs": [
        {
          "output_type": "execute_result",
          "data": {
            "text/plain": [
              "0.7523801030269758"
            ]
          },
          "metadata": {
            "tags": []
          },
          "execution_count": 298
        }
      ]
    },
    {
      "cell_type": "code",
      "metadata": {
        "id": "mQvNMSaLuEwB",
        "colab_type": "code",
        "colab": {}
      },
      "source": [
        ""
      ],
      "execution_count": 298,
      "outputs": []
    },
    {
      "cell_type": "code",
      "metadata": {
        "id": "Ke8ho17QuIe3",
        "colab_type": "code",
        "colab": {
          "base_uri": "https://localhost:8080/",
          "height": 295
        },
        "outputId": "f348d42e-d726-465f-9adb-981e707ac662"
      },
      "source": [
        "fp, tp, th = roc_curve(y_test, nnpred)\n",
        "roc_auc_mla = auc(fp, tp)\n",
        "MLA_name = 'ANN'\n",
        "plt.plot(fp, tp, lw=2, alpha=0.3, label='ROC %s (AUC = %0.2f)'  % (MLA_name, roc_auc_mla))\n",
        "\n",
        "plt.title('ROC Curve comparison')\n",
        "plt.legend(bbox_to_anchor=(1.05, 1), loc=2, borderaxespad=0.)\n",
        "plt.plot([0,1],[0,1],'r--')\n",
        "plt.xlim([0,1])\n",
        "plt.ylim([0,1])\n",
        "plt.ylabel('True Positive Rate')\n",
        "plt.xlabel('False Positive Rate')    \n",
        "plt.show()"
      ],
      "execution_count": 299,
      "outputs": [
        {
          "output_type": "display_data",
          "data": {
            "image/png": "[encoded data removed]",
            "text/plain": [
              "<Figure size 432x288 with 1 Axes>"
            ]
          },
          "metadata": {
            "tags": [],
            "needs_background": "light"
          }
        }
      ]
    },
    {
      "cell_type": "code",
      "metadata": {
        "id": "hsurEX-SuI6Y",
        "colab_type": "code",
        "colab": {}
      },
      "source": [
        ""
      ],
      "execution_count": 299,
      "outputs": []
    },
    {
      "cell_type": "code",
      "metadata": {
        "id": "Ac1h75L5uI4H",
        "colab_type": "code",
        "colab": {}
      },
      "source": [
        ""
      ],
      "execution_count": 299,
      "outputs": []
    },
    {
      "cell_type": "markdown",
      "metadata": {
        "id": "TmTl8tJB0X0h",
        "colab_type": "text"
      },
      "source": [
        "# Ada Boosting"
      ]
    },
    {
      "cell_type": "code",
      "metadata": {
        "id": "mt1ZVL550aOt",
        "colab_type": "code",
        "colab": {}
      },
      "source": [
        "adaboost = AdaBoostClassifier(n_estimators=300, random_state=0)"
      ],
      "execution_count": 243,
      "outputs": []
    },
    {
      "cell_type": "code",
      "metadata": {
        "id": "vauWEgLnwTR3",
        "colab_type": "code",
        "colab": {
          "base_uri": "https://localhost:8080/",
          "height": 0
        },
        "outputId": "85fcd644-4308-44e2-a4d5-db520f1db6af"
      },
      "source": [
        "adaboost.fit(X_train,y_train)"
      ],
      "execution_count": 244,
      "outputs": [
        {
          "output_type": "execute_result",
          "data": {
            "text/plain": [
              "AdaBoostClassifier(algorithm='SAMME.R', base_estimator=None, learning_rate=1.0,\n",
              "                   n_estimators=300, random_state=0)"
            ]
          },
          "metadata": {
            "tags": []
          },
          "execution_count": 244
        }
      ]
    },
    {
      "cell_type": "code",
      "metadata": {
        "id": "B55LgxS_wY0a",
        "colab_type": "code",
        "colab": {}
      },
      "source": [
        "prediction = adaboost.predict(X_test)"
      ],
      "execution_count": 245,
      "outputs": []
    },
    {
      "cell_type": "code",
      "metadata": {
        "id": "i733-4POwiPq",
        "colab_type": "code",
        "colab": {
          "base_uri": "https://localhost:8080/",
          "height": 0
        },
        "outputId": "f94167b4-9263-4f4d-c937-f10c56829d31"
      },
      "source": [
        "print(classification_report(y_test,prediction))"
      ],
      "execution_count": 246,
      "outputs": [
        {
          "output_type": "stream",
          "text": [
            "              precision    recall  f1-score   support\n",
            "\n",
            "           0       0.87      0.92      0.89      5497\n",
            "           1       0.70      0.59      0.64      1792\n",
            "\n",
            "    accuracy                           0.84      7289\n",
            "   macro avg       0.79      0.75      0.77      7289\n",
            "weighted avg       0.83      0.84      0.83      7289\n",
            "\n"
          ],
          "name": "stdout"
        }
      ]
    },
    {
      "cell_type": "code",
      "metadata": {
        "id": "CynylmW2wlUS",
        "colab_type": "code",
        "colab": {
          "base_uri": "https://localhost:8080/",
          "height": 0
        },
        "outputId": "c43a334c-14c9-4c93-9884-8d87c9ee635e"
      },
      "source": [
        "print(confusion_matrix(y_test,prediction))"
      ],
      "execution_count": 247,
      "outputs": [
        {
          "output_type": "stream",
          "text": [
            "[[5049  448]\n",
            " [ 740 1052]]\n"
          ],
          "name": "stdout"
        }
      ]
    },
    {
      "cell_type": "code",
      "metadata": {
        "id": "0x4P4Ragw5C4",
        "colab_type": "code",
        "colab": {
          "base_uri": "https://localhost:8080/",
          "height": 0
        },
        "outputId": "344587b4-9635-4b85-9621-844d8d93eafd"
      },
      "source": [
        "adaboost_accuracy = accuracy_score(y_test,prediction)\n",
        "adaboost_accuracy"
      ],
      "execution_count": 248,
      "outputs": [
        {
          "output_type": "execute_result",
          "data": {
            "text/plain": [
              "0.8370146796542736"
            ]
          },
          "metadata": {
            "tags": []
          },
          "execution_count": 248
        }
      ]
    },
    {
      "cell_type": "code",
      "metadata": {
        "id": "r_281oB_w45W",
        "colab_type": "code",
        "colab": {
          "base_uri": "https://localhost:8080/",
          "height": 0
        },
        "outputId": "f4e172c5-b047-4f12-9a5e-73225e08b558"
      },
      "source": [
        "adaboost_roc_auc_score = roc_auc_score(y_test,prediction)\n",
        "adaboost_roc_auc_score "
      ],
      "execution_count": 249,
      "outputs": [
        {
          "output_type": "execute_result",
          "data": {
            "text/plain": [
              "0.7527772859871618"
            ]
          },
          "metadata": {
            "tags": []
          },
          "execution_count": 249
        }
      ]
    },
    {
      "cell_type": "markdown",
      "metadata": {
        "id": "TM0NZcIg8kea",
        "colab_type": "text"
      },
      "source": [
        "# Gradient Boosting"
      ]
    },
    {
      "cell_type": "code",
      "metadata": {
        "id": "3_VuYj9t8m1p",
        "colab_type": "code",
        "colab": {}
      },
      "source": [
        "GB = GradientBoostingClassifier(n_estimators=300, random_state=0)"
      ],
      "execution_count": 250,
      "outputs": []
    },
    {
      "cell_type": "code",
      "metadata": {
        "id": "ZghIGbZK8zH9",
        "colab_type": "code",
        "colab": {
          "base_uri": "https://localhost:8080/",
          "height": 0
        },
        "outputId": "dd961efa-7135-4cf2-a312-fc8c5e84e11a"
      },
      "source": [
        "GB.fit(X_train, y_train)"
      ],
      "execution_count": 251,
      "outputs": [
        {
          "output_type": "execute_result",
          "data": {
            "text/plain": [
              "GradientBoostingClassifier(ccp_alpha=0.0, criterion='friedman_mse', init=None,\n",
              "                           learning_rate=0.1, loss='deviance', max_depth=3,\n",
              "                           max_features=None, max_leaf_nodes=None,\n",
              "                           min_impurity_decrease=0.0, min_impurity_split=None,\n",
              "                           min_samples_leaf=1, min_samples_split=2,\n",
              "                           min_weight_fraction_leaf=0.0, n_estimators=300,\n",
              "                           n_iter_no_change=None, presort='deprecated',\n",
              "                           random_state=0, subsample=1.0, tol=0.0001,\n",
              "                           validation_fraction=0.1, verbose=0,\n",
              "                           warm_start=False)"
            ]
          },
          "metadata": {
            "tags": []
          },
          "execution_count": 251
        }
      ]
    },
    {
      "cell_type": "code",
      "metadata": {
        "id": "WoEzrqu78z4f",
        "colab_type": "code",
        "colab": {}
      },
      "source": [
        "pred = GB.predict(X_test)"
      ],
      "execution_count": 252,
      "outputs": []
    },
    {
      "cell_type": "code",
      "metadata": {
        "id": "XVlSPEcd82e3",
        "colab_type": "code",
        "colab": {
          "base_uri": "https://localhost:8080/",
          "height": 0
        },
        "outputId": "fbc7adb0-9e05-400d-fda5-03751d786962"
      },
      "source": [
        "print(classification_report(y_test, pred))"
      ],
      "execution_count": 253,
      "outputs": [
        {
          "output_type": "stream",
          "text": [
            "              precision    recall  f1-score   support\n",
            "\n",
            "           0       0.88      0.92      0.90      5497\n",
            "           1       0.71      0.61      0.66      1792\n",
            "\n",
            "    accuracy                           0.84      7289\n",
            "   macro avg       0.79      0.76      0.78      7289\n",
            "weighted avg       0.84      0.84      0.84      7289\n",
            "\n"
          ],
          "name": "stdout"
        }
      ]
    },
    {
      "cell_type": "code",
      "metadata": {
        "id": "iFe8Wqag9VxS",
        "colab_type": "code",
        "colab": {
          "base_uri": "https://localhost:8080/",
          "height": 0
        },
        "outputId": "2020bf29-d21a-41dd-a34b-2426b19e6f16"
      },
      "source": [
        "gradboost_accuracy = accuracy_score(y_test,pred)\n",
        "gradboost_accuracy"
      ],
      "execution_count": 254,
      "outputs": [
        {
          "output_type": "execute_result",
          "data": {
            "text/plain": [
              "0.8425024008780354"
            ]
          },
          "metadata": {
            "tags": []
          },
          "execution_count": 254
        }
      ]
    },
    {
      "cell_type": "code",
      "metadata": {
        "id": "Xy869vET9XTO",
        "colab_type": "code",
        "colab": {
          "base_uri": "https://localhost:8080/",
          "height": 0
        },
        "outputId": "561f7a85-0bfa-4a83-c1d9-18772a326938"
      },
      "source": [
        "gradboost_roc_auc_score = roc_auc_score(y_test,pred)\n",
        "gradboost_roc_auc_score "
      ],
      "execution_count": 255,
      "outputs": [
        {
          "output_type": "execute_result",
          "data": {
            "text/plain": [
              "0.7637499411204813"
            ]
          },
          "metadata": {
            "tags": []
          },
          "execution_count": 255
        }
      ]
    },
    {
      "cell_type": "markdown",
      "metadata": {
        "id": "2_RPtk9U-IAx",
        "colab_type": "text"
      },
      "source": [
        "# Comparision"
      ]
    },
    {
      "cell_type": "code",
      "metadata": {
        "id": "m_NxsZqh-HIT",
        "colab_type": "code",
        "colab": {
          "base_uri": "https://localhost:8080/",
          "height": 254
        },
        "outputId": "19622a33-2a2d-415e-a490-a44021261dbb"
      },
      "source": [
        "accuracy = {'Model' : ['Logistic Regression' , 'SVM' , 'Decision Tree', 'Random Forest','AdaBoost','GradiantBoost', 'ANN'],\n",
        "            'Accuracy' : [logistic_regression_accuracy, svm_accuracy, descision_tree_accuracy, random_forest_accuracy,adaboost_accuracy,gradboost_accuracy, ann_accuracy]}\n",
        "\n",
        "accuracy_df = pd.DataFrame(accuracy, columns = ['Model', 'Accuracy'])\n",
        "\n",
        "accuracy_df"
      ],
      "execution_count": 256,
      "outputs": [
        {
          "output_type": "execute_result",
          "data": {
            "text/html": [
              "<div>\n",
              "<style scoped>\n",
              "    .dataframe tbody tr th:only-of-type {\n",
              "        vertical-align: middle;\n",
              "    }\n",
              "\n",
              "    .dataframe tbody tr th {\n",
              "        vertical-align: top;\n",
              "    }\n",
              "\n",
              "    .dataframe thead th {\n",
              "        text-align: right;\n",
              "    }\n",
              "</style>\n",
              "<table border=\"1\" class=\"dataframe\">\n",
              "  <thead>\n",
              "    <tr style=\"text-align: right;\">\n",
              "      <th></th>\n",
              "      <th>Model</th>\n",
              "      <th>Accuracy</th>\n",
              "    </tr>\n",
              "  </thead>\n",
              "  <tbody>\n",
              "    <tr>\n",
              "      <th>0</th>\n",
              "      <td>Logistic Regression</td>\n",
              "      <td>0.802716</td>\n",
              "    </tr>\n",
              "    <tr>\n",
              "      <th>1</th>\n",
              "      <td>SVM</td>\n",
              "      <td>0.832625</td>\n",
              "    </tr>\n",
              "    <tr>\n",
              "      <th>2</th>\n",
              "      <td>Decision Tree</td>\n",
              "      <td>0.780628</td>\n",
              "    </tr>\n",
              "    <tr>\n",
              "      <th>3</th>\n",
              "      <td>Random Forest</td>\n",
              "      <td>0.818356</td>\n",
              "    </tr>\n",
              "    <tr>\n",
              "      <th>4</th>\n",
              "      <td>AdaBoost</td>\n",
              "      <td>0.837015</td>\n",
              "    </tr>\n",
              "    <tr>\n",
              "      <th>5</th>\n",
              "      <td>GradiantBoost</td>\n",
              "      <td>0.842502</td>\n",
              "    </tr>\n",
              "    <tr>\n",
              "      <th>6</th>\n",
              "      <td>ANN</td>\n",
              "      <td>0.818219</td>\n",
              "    </tr>\n",
              "  </tbody>\n",
              "</table>\n",
              "</div>"
            ],
            "text/plain": [
              "                 Model  Accuracy\n",
              "0  Logistic Regression  0.802716\n",
              "1                  SVM  0.832625\n",
              "2        Decision Tree  0.780628\n",
              "3        Random Forest  0.818356\n",
              "4             AdaBoost  0.837015\n",
              "5        GradiantBoost  0.842502\n",
              "6                  ANN  0.818219"
            ]
          },
          "metadata": {
            "tags": []
          },
          "execution_count": 256
        }
      ]
    },
    {
      "cell_type": "code",
      "metadata": {
        "id": "Y99zWTx5_EpR",
        "colab_type": "code",
        "colab": {
          "base_uri": "https://localhost:8080/",
          "height": 442
        },
        "outputId": "3df86493-fcf2-4ff3-bb48-21481603d8c4"
      },
      "source": [
        "plt.figure(figsize=(12,7))\n",
        "splot = sns.barplot('Model','Accuracy',data=accuracy_df, order=accuracy_df.sort_values('Accuracy').Model)\n",
        "\n",
        "for p in splot.patches:\n",
        "    splot.annotate(format(p.get_height()*100, '.3f'), \n",
        "                   (p.get_x() + p.get_width() / 2., p.get_height()), \n",
        "                   ha = 'center', va = 'center', \n",
        "                   xytext = (0, 9), \n",
        "                   textcoords = 'offset points')"
      ],
      "execution_count": 257,
      "outputs": [
        {
          "output_type": "display_data",
          "data": {
            "image/png": "[encoded data removed]",
            "text/plain": [
              "<Figure size 864x504 with 1 Axes>"
            ]
          },
          "metadata": {
            "tags": [],
            "needs_background": "light"
          }
        }
      ]
    },
    {
      "cell_type": "code",
      "metadata": {
        "id": "7HKND87Z_a4i",
        "colab_type": "code",
        "colab": {
          "base_uri": "https://localhost:8080/",
          "height": 254
        },
        "outputId": "587c103a-6f58-45bb-f27e-2b7a9a07618f"
      },
      "source": [
        "auc_roc = {'Model' : ['Logistic Regression' , 'SVM' , 'Decision Tree', 'Random Forest','AdaBoost','GradiantBoost', 'ANN'],\n",
        "            'AUC' : [logistic_regression_roc_auc_score, svm_roc_auc_score, descision_tree_roc_auc_score, random_forest_roc_auc_score,adaboost_roc_auc_score, gradboost_roc_auc_score, ann_roc_auc_score]}\n",
        "\n",
        "auc_roc_df = pd.DataFrame(auc_roc, columns = ['Model', 'AUC'])\n",
        "\n",
        "auc_roc_df"
      ],
      "execution_count": 258,
      "outputs": [
        {
          "output_type": "execute_result",
          "data": {
            "text/html": [
              "<div>\n",
              "<style scoped>\n",
              "    .dataframe tbody tr th:only-of-type {\n",
              "        vertical-align: middle;\n",
              "    }\n",
              "\n",
              "    .dataframe tbody tr th {\n",
              "        vertical-align: top;\n",
              "    }\n",
              "\n",
              "    .dataframe thead th {\n",
              "        text-align: right;\n",
              "    }\n",
              "</style>\n",
              "<table border=\"1\" class=\"dataframe\">\n",
              "  <thead>\n",
              "    <tr style=\"text-align: right;\">\n",
              "      <th></th>\n",
              "      <th>Model</th>\n",
              "      <th>AUC</th>\n",
              "    </tr>\n",
              "  </thead>\n",
              "  <tbody>\n",
              "    <tr>\n",
              "      <th>0</th>\n",
              "      <td>Logistic Regression</td>\n",
              "      <td>0.664405</td>\n",
              "    </tr>\n",
              "    <tr>\n",
              "      <th>1</th>\n",
              "      <td>SVM</td>\n",
              "      <td>0.732753</td>\n",
              "    </tr>\n",
              "    <tr>\n",
              "      <th>2</th>\n",
              "      <td>Decision Tree</td>\n",
              "      <td>0.700537</td>\n",
              "    </tr>\n",
              "    <tr>\n",
              "      <th>3</th>\n",
              "      <td>Random Forest</td>\n",
              "      <td>0.739279</td>\n",
              "    </tr>\n",
              "    <tr>\n",
              "      <th>4</th>\n",
              "      <td>AdaBoost</td>\n",
              "      <td>0.752777</td>\n",
              "    </tr>\n",
              "    <tr>\n",
              "      <th>5</th>\n",
              "      <td>GradiantBoost</td>\n",
              "      <td>0.763750</td>\n",
              "    </tr>\n",
              "    <tr>\n",
              "      <th>6</th>\n",
              "      <td>ANN</td>\n",
              "      <td>0.783005</td>\n",
              "    </tr>\n",
              "  </tbody>\n",
              "</table>\n",
              "</div>"
            ],
            "text/plain": [
              "                 Model       AUC\n",
              "0  Logistic Regression  0.664405\n",
              "1                  SVM  0.732753\n",
              "2        Decision Tree  0.700537\n",
              "3        Random Forest  0.739279\n",
              "4             AdaBoost  0.752777\n",
              "5        GradiantBoost  0.763750\n",
              "6                  ANN  0.783005"
            ]
          },
          "metadata": {
            "tags": []
          },
          "execution_count": 258
        }
      ]
    },
    {
      "cell_type": "code",
      "metadata": {
        "id": "Ezxo135eCEDB",
        "colab_type": "code",
        "colab": {
          "base_uri": "https://localhost:8080/",
          "height": 442
        },
        "outputId": "104374a0-7f48-431b-9085-ad55a2ed431e"
      },
      "source": [
        "plt.figure(figsize=(12,7))\n",
        "splot2 = sns.barplot('Model','AUC',data=auc_roc_df, order=auc_roc_df.sort_values('AUC').Model)\n",
        "\n",
        "for p in splot2.patches:\n",
        "    splot2.annotate(format(p.get_height()*100, '.3f'), \n",
        "                   (p.get_x() + p.get_width() / 2., p.get_height()), \n",
        "                   ha = 'center', va = 'center', \n",
        "                   xytext = (0, 9), \n",
        "                   textcoords = 'offset points')"
      ],
      "execution_count": 259,
      "outputs": [
        {
          "output_type": "display_data",
          "data": {
            "image/png": "[encoded data removed]",
            "text/plain": [
              "<Figure size 864x504 with 1 Axes>"
            ]
          },
          "metadata": {
            "tags": [],
            "needs_background": "light"
          }
        }
      ]
    },
    {
      "cell_type": "code",
      "metadata": {
        "id": "YHiErSV2COFK",
        "colab_type": "code",
        "colab": {}
      },
      "source": [
        ""
      ],
      "execution_count": 259,
      "outputs": []
    },
    {
      "cell_type": "code",
      "metadata": {
        "id": "KVdbyJqej3or",
        "colab_type": "code",
        "colab": {}
      },
      "source": [
        "MLA = [\n",
        "    #Ensemble Methods\n",
        "    AdaBoostClassifier(n_estimators=300),\n",
        "    GradientBoostingClassifier(n_estimators=300),\n",
        "    RandomForestClassifier(n_estimators=300),\n",
        "\n",
        "    \n",
        "    #GLM\n",
        "    LogisticRegression(),\n",
        "    \n",
        "    #SVM\n",
        "    SVC(C=100,gamma=1),\n",
        "    \n",
        "    #Trees    \n",
        "    DecisionTreeClassifier()\n",
        "    \n",
        "    ]"
      ],
      "execution_count": 260,
      "outputs": []
    },
    {
      "cell_type": "code",
      "metadata": {
        "id": "oBxs6zgDkr3P",
        "colab_type": "code",
        "colab": {
          "base_uri": "https://localhost:8080/",
          "height": 513
        },
        "outputId": "97cceb62-728d-41f0-fe82-f3db4b6b4849"
      },
      "source": [
        "plt.figure(figsize=(10,8))\n",
        "index = 1\n",
        "for alg in MLA:\n",
        "        \n",
        "    predicted = alg.fit(X_train, y_train).predict(X_test)\n",
        "    fp, tp, th = roc_curve(y_test, predicted)\n",
        "    roc_auc_mla = auc(fp, tp)\n",
        "    MLA_name = alg.__class__.__name__\n",
        "    plt.plot(fp, tp, lw=2, alpha=0.3, label='ROC %s (AUC = %0.2f)'  % (MLA_name, roc_auc_mla))\n",
        "   \n",
        "    index+=1\n",
        "\n",
        "plt.title('ROC Curve comparison')\n",
        "plt.legend(bbox_to_anchor=(1.05, 1), loc=2, borderaxespad=0.)\n",
        "plt.plot([0,1],[0,1],'r--')\n",
        "plt.xlim([0,1])\n",
        "plt.ylim([0,1])\n",
        "plt.ylabel('True Positive Rate')\n",
        "plt.xlabel('False Positive Rate')    \n",
        "plt.show()"
      ],
      "execution_count": 261,
      "outputs": [
        {
          "output_type": "display_data",
          "data": {
            "image/png": "[encoded data removed]",
            "text/plain": [
              "<Figure size 720x576 with 1 Axes>"
            ]
          },
          "metadata": {
            "tags": [],
            "needs_background": "light"
          }
        }
      ]
    },
    {
      "cell_type": "code",
      "metadata": {
        "id": "lPJJPvFurxdS",
        "colab_type": "code",
        "colab": {
          "base_uri": "https://localhost:8080/",
          "height": 295
        },
        "outputId": "b32883a6-a094-43e3-fd9f-b7c1333aacca"
      },
      "source": [
        "fp, tp, th = roc_curve(y_test, nnpred)\n",
        "roc_auc_mla = auc(fp, tp)\n",
        "MLA_name = 'ANN'\n",
        "plt.plot(fp, tp, lw=2, alpha=0.3, label='ROC %s (AUC = %0.2f)'  % (MLA_name, roc_auc_mla))\n",
        "\n",
        "plt.title('ROC Curve comparison')\n",
        "plt.legend(bbox_to_anchor=(1.05, 1), loc=2, borderaxespad=0.)\n",
        "plt.plot([0,1],[0,1],'r--')\n",
        "plt.xlim([0,1])\n",
        "plt.ylim([0,1])\n",
        "plt.ylabel('True Positive Rate')\n",
        "plt.xlabel('False Positive Rate')    \n",
        "plt.show()"
      ],
      "execution_count": 303,
      "outputs": [
        {
          "output_type": "display_data",
          "data": {
            "image/png": "[encoded data removed]",
            "text/plain": [
              "<Figure size 432x288 with 1 Axes>"
            ]
          },
          "metadata": {
            "tags": [],
            "needs_background": "light"
          }
        }
      ]
    },
    {
      "cell_type": "code",
      "metadata": {
        "id": "boU9x-m7vhUZ",
        "colab_type": "code",
        "colab": {
          "base_uri": "https://localhost:8080/",
          "height": 513
        },
        "outputId": "44a2d0d9-28e4-4d07-db78-4b1b38e9c073"
      },
      "source": [
        "plt.figure(figsize=(10,8))\n",
        "index = 1\n",
        "for alg in MLA:\n",
        "        \n",
        "    predicted = alg.fit(X_train, y_train).predict(X_test)\n",
        "    fp, tp, th = roc_curve(y_test, predicted)\n",
        "    roc_auc_mla = auc(fp, tp)\n",
        "    MLA_name = alg.__class__.__name__\n",
        "    plt.plot(fp, tp, lw=2, alpha=0.3, label='ROC %s (AUC = %0.2f)'  % (MLA_name, roc_auc_mla))\n",
        "   \n",
        "    index+=1\n",
        "\n",
        "fp, tp, th = roc_curve(y_test, nnpred)\n",
        "roc_auc_mla = auc(fp, tp)\n",
        "MLA_name = 'ANN'\n",
        "plt.plot(fp, tp, lw=2, alpha=0.3, label='ROC %s (AUC = %0.2f)'  % (MLA_name, roc_auc_mla))\n",
        "\n",
        "plt.title('ROC Curve comparison')\n",
        "plt.legend(bbox_to_anchor=(1.05, 1), loc=2, borderaxespad=0.)\n",
        "plt.plot([0,1],[0,1],'r--')\n",
        "plt.xlim([0,1])\n",
        "plt.ylim([0,1])\n",
        "plt.ylabel('True Positive Rate')\n",
        "plt.xlabel('False Positive Rate')    \n",
        "plt.show()"
      ],
      "execution_count": 302,
      "outputs": [
        {
          "output_type": "display_data",
          "data": {
            "image/png": "[encoded data removed]",
            "text/plain": [
              "<Figure size 720x576 with 1 Axes>"
            ]
          },
          "metadata": {
            "tags": [],
            "needs_background": "light"
          }
        }
      ]
    },
    {
      "cell_type": "code",
      "metadata": {
        "id": "ojkD8s5rvlF5",
        "colab_type": "code",
        "colab": {}
      },
      "source": [
        ""
      ],
      "execution_count": 263,
      "outputs": []
    }
  ]
}